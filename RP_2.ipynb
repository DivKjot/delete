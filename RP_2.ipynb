{
 "cells": [
  {
   "cell_type": "code",
   "execution_count": 1,
   "id": "3338bf75",
   "metadata": {},
   "outputs": [],
   "source": [
    "import pandas as pd\n",
    "import numpy as np"
   ]
  },
  {
   "cell_type": "code",
   "execution_count": 2,
   "id": "a8d59a05",
   "metadata": {},
   "outputs": [
    {
     "name": "stdout",
     "output_type": "stream",
     "text": [
      "Requirement already satisfied: pmdarima in c:\\users\\lenovo\\anaconda3\\lib\\site-packages (2.0.3)\n",
      "Requirement already satisfied: urllib3 in c:\\users\\lenovo\\anaconda3\\lib\\site-packages (from pmdarima) (1.26.11)\n",
      "Requirement already satisfied: joblib>=0.11 in c:\\users\\lenovo\\anaconda3\\lib\\site-packages (from pmdarima) (1.1.0)\n",
      "Requirement already satisfied: numpy>=1.21.2 in c:\\users\\lenovo\\anaconda3\\lib\\site-packages (from pmdarima) (1.21.5)\n",
      "Requirement already satisfied: Cython!=0.29.18,!=0.29.31,>=0.29 in c:\\users\\lenovo\\anaconda3\\lib\\site-packages (from pmdarima) (0.29.32)\n",
      "Requirement already satisfied: setuptools!=50.0.0,>=38.6.0 in c:\\users\\lenovo\\anaconda3\\lib\\site-packages (from pmdarima) (63.4.1)\n",
      "Requirement already satisfied: scikit-learn>=0.22 in c:\\users\\lenovo\\anaconda3\\lib\\site-packages (from pmdarima) (1.0.2)\n",
      "Requirement already satisfied: scipy>=1.3.2 in c:\\users\\lenovo\\anaconda3\\lib\\site-packages (from pmdarima) (1.9.1)\n",
      "Requirement already satisfied: statsmodels>=0.13.2 in c:\\users\\lenovo\\anaconda3\\lib\\site-packages (from pmdarima) (0.13.2)\n",
      "Requirement already satisfied: pandas>=0.19 in c:\\users\\lenovo\\anaconda3\\lib\\site-packages (from pmdarima) (1.4.4)\n",
      "Requirement already satisfied: pytz>=2020.1 in c:\\users\\lenovo\\anaconda3\\lib\\site-packages (from pandas>=0.19->pmdarima) (2022.1)\n",
      "Requirement already satisfied: python-dateutil>=2.8.1 in c:\\users\\lenovo\\anaconda3\\lib\\site-packages (from pandas>=0.19->pmdarima) (2.8.2)\n",
      "Requirement already satisfied: threadpoolctl>=2.0.0 in c:\\users\\lenovo\\anaconda3\\lib\\site-packages (from scikit-learn>=0.22->pmdarima) (2.2.0)\n",
      "Requirement already satisfied: patsy>=0.5.2 in c:\\users\\lenovo\\anaconda3\\lib\\site-packages (from statsmodels>=0.13.2->pmdarima) (0.5.2)\n",
      "Requirement already satisfied: packaging>=21.3 in c:\\users\\lenovo\\anaconda3\\lib\\site-packages (from statsmodels>=0.13.2->pmdarima) (21.3)\n",
      "Requirement already satisfied: pyparsing!=3.0.5,>=2.0.2 in c:\\users\\lenovo\\anaconda3\\lib\\site-packages (from packaging>=21.3->statsmodels>=0.13.2->pmdarima) (3.0.9)\n",
      "Requirement already satisfied: six in c:\\users\\lenovo\\anaconda3\\lib\\site-packages (from patsy>=0.5.2->statsmodels>=0.13.2->pmdarima) (1.16.0)\n",
      "Note: you may need to restart the kernel to use updated packages.\n"
     ]
    }
   ],
   "source": [
    "pip install pmdarima"
   ]
  },
  {
   "cell_type": "code",
   "execution_count": 3,
   "id": "a8e37466",
   "metadata": {},
   "outputs": [],
   "source": [
    "df=pd.read_csv('C:/Users/lenovo/Downloads/25-09-2022-TO-25-09-2023-RELIANCE-ALL-N.csv')"
   ]
  },
  {
   "cell_type": "code",
   "execution_count": 4,
   "id": "a0af49dc",
   "metadata": {},
   "outputs": [
    {
     "name": "stdout",
     "output_type": "stream",
     "text": [
      "shape of data (250, 15)\n"
     ]
    },
    {
     "data": {
      "text/html": [
       "<div>\n",
       "<style scoped>\n",
       "    .dataframe tbody tr th:only-of-type {\n",
       "        vertical-align: middle;\n",
       "    }\n",
       "\n",
       "    .dataframe tbody tr th {\n",
       "        vertical-align: top;\n",
       "    }\n",
       "\n",
       "    .dataframe thead th {\n",
       "        text-align: right;\n",
       "    }\n",
       "</style>\n",
       "<table border=\"1\" class=\"dataframe\">\n",
       "  <thead>\n",
       "    <tr style=\"text-align: right;\">\n",
       "      <th></th>\n",
       "      <th>Symbol</th>\n",
       "      <th>Series</th>\n",
       "      <th>Date</th>\n",
       "      <th>Prev Close</th>\n",
       "      <th>Open Price</th>\n",
       "      <th>High Price</th>\n",
       "      <th>Low Price</th>\n",
       "      <th>Last Price</th>\n",
       "      <th>Close Price</th>\n",
       "      <th>Average Price</th>\n",
       "      <th>Total Traded Quantity</th>\n",
       "      <th>Turnover ₹</th>\n",
       "      <th>No. of Trades</th>\n",
       "      <th>Deliverable Qty</th>\n",
       "      <th>% Dly Qt to Traded Qty</th>\n",
       "    </tr>\n",
       "  </thead>\n",
       "  <tbody>\n",
       "    <tr>\n",
       "      <th>0</th>\n",
       "      <td>RELIANCE</td>\n",
       "      <td>EQ</td>\n",
       "      <td>26-Sep-2022</td>\n",
       "      <td>2,439.50</td>\n",
       "      <td>2,394.05</td>\n",
       "      <td>2,417.80</td>\n",
       "      <td>2,375.15</td>\n",
       "      <td>2,378.15</td>\n",
       "      <td>2,377.35</td>\n",
       "      <td>2,392.03</td>\n",
       "      <td>5,759,298</td>\n",
       "      <td>13,776,401,753.70</td>\n",
       "      <td>334,638</td>\n",
       "      <td>3,259,263</td>\n",
       "      <td>56.59</td>\n",
       "    </tr>\n",
       "    <tr>\n",
       "      <th>1</th>\n",
       "      <td>RELIANCE</td>\n",
       "      <td>EQ</td>\n",
       "      <td>27-Sep-2022</td>\n",
       "      <td>2,377.35</td>\n",
       "      <td>2,394.00</td>\n",
       "      <td>2,426.00</td>\n",
       "      <td>2,360.10</td>\n",
       "      <td>2,394.00</td>\n",
       "      <td>2,396.25</td>\n",
       "      <td>2,390.70</td>\n",
       "      <td>7,455,448</td>\n",
       "      <td>17,823,738,488.00</td>\n",
       "      <td>295,538</td>\n",
       "      <td>4,199,383</td>\n",
       "      <td>56.33</td>\n",
       "    </tr>\n",
       "    <tr>\n",
       "      <th>2</th>\n",
       "      <td>RELIANCE</td>\n",
       "      <td>EQ</td>\n",
       "      <td>28-Sep-2022</td>\n",
       "      <td>2,396.25</td>\n",
       "      <td>2,360.35</td>\n",
       "      <td>2,378.00</td>\n",
       "      <td>2,327.10</td>\n",
       "      <td>2,330.50</td>\n",
       "      <td>2,332.45</td>\n",
       "      <td>2,353.58</td>\n",
       "      <td>7,844,140</td>\n",
       "      <td>18,461,791,856.30</td>\n",
       "      <td>387,724</td>\n",
       "      <td>4,421,083</td>\n",
       "      <td>56.36</td>\n",
       "    </tr>\n",
       "    <tr>\n",
       "      <th>3</th>\n",
       "      <td>RELIANCE</td>\n",
       "      <td>EQ</td>\n",
       "      <td>29-Sep-2022</td>\n",
       "      <td>2,332.45</td>\n",
       "      <td>2,360.00</td>\n",
       "      <td>2,367.50</td>\n",
       "      <td>2,313.00</td>\n",
       "      <td>2,328.00</td>\n",
       "      <td>2,325.30</td>\n",
       "      <td>2,334.53</td>\n",
       "      <td>6,771,046</td>\n",
       "      <td>15,807,234,115.85</td>\n",
       "      <td>288,225</td>\n",
       "      <td>4,318,113</td>\n",
       "      <td>63.77</td>\n",
       "    </tr>\n",
       "    <tr>\n",
       "      <th>4</th>\n",
       "      <td>RELIANCE</td>\n",
       "      <td>EQ</td>\n",
       "      <td>30-Sep-2022</td>\n",
       "      <td>2,325.30</td>\n",
       "      <td>2,311.00</td>\n",
       "      <td>2,402.00</td>\n",
       "      <td>2,311.00</td>\n",
       "      <td>2,376.15</td>\n",
       "      <td>2,377.75</td>\n",
       "      <td>2,371.60</td>\n",
       "      <td>8,589,908</td>\n",
       "      <td>20,371,810,194.00</td>\n",
       "      <td>264,760</td>\n",
       "      <td>5,032,369</td>\n",
       "      <td>58.58</td>\n",
       "    </tr>\n",
       "  </tbody>\n",
       "</table>\n",
       "</div>"
      ],
      "text/plain": [
       "   Symbol   Series         Date   Prev Close   Open Price   High Price    \\\n",
       "0  RELIANCE       EQ  26-Sep-2022     2,439.50     2,394.05     2,417.80   \n",
       "1  RELIANCE       EQ  27-Sep-2022     2,377.35     2,394.00     2,426.00   \n",
       "2  RELIANCE       EQ  28-Sep-2022     2,396.25     2,360.35     2,378.00   \n",
       "3  RELIANCE       EQ  29-Sep-2022     2,332.45     2,360.00     2,367.50   \n",
       "4  RELIANCE       EQ  30-Sep-2022     2,325.30     2,311.00     2,402.00   \n",
       "\n",
       "  Low Price   Last Price   Close Price   Average Price   \\\n",
       "0    2,375.15     2,378.15      2,377.35       2,392.03   \n",
       "1    2,360.10     2,394.00      2,396.25       2,390.70   \n",
       "2    2,327.10     2,330.50      2,332.45       2,353.58   \n",
       "3    2,313.00     2,328.00      2,325.30       2,334.53   \n",
       "4    2,311.00     2,376.15      2,377.75       2,371.60   \n",
       "\n",
       "  Total Traded Quantity         Turnover ₹   No. of Trades    \\\n",
       "0               5,759,298  13,776,401,753.70         334,638   \n",
       "1               7,455,448  17,823,738,488.00         295,538   \n",
       "2               7,844,140  18,461,791,856.30         387,724   \n",
       "3               6,771,046  15,807,234,115.85         288,225   \n",
       "4               8,589,908  20,371,810,194.00         264,760   \n",
       "\n",
       "  Deliverable Qty   % Dly Qt to Traded Qty    \n",
       "0         3,259,263                    56.59  \n",
       "1         4,199,383                    56.33  \n",
       "2         4,421,083                    56.36  \n",
       "3         4,318,113                    63.77  \n",
       "4         5,032,369                    58.58  "
      ]
     },
     "execution_count": 4,
     "metadata": {},
     "output_type": "execute_result"
    }
   ],
   "source": [
    "print('shape of data',df.shape)\n",
    "df.head()"
   ]
  },
  {
   "cell_type": "code",
   "execution_count": 5,
   "id": "212395cb",
   "metadata": {},
   "outputs": [
    {
     "name": "stdout",
     "output_type": "stream",
     "text": [
      "Index(['Symbol  ', 'Series  ', 'Date  ', 'Prev Close  ', 'Open Price  ',\n",
      "       'High Price  ', 'Low Price  ', 'Last Price  ', 'Close Price  ',\n",
      "       'Average Price ', 'Total Traded Quantity  ', 'Turnover ₹  ',\n",
      "       'No. of Trades  ', 'Deliverable Qty  ', '% Dly Qt to Traded Qty  '],\n",
      "      dtype='object')\n"
     ]
    }
   ],
   "source": [
    "print(df.columns)"
   ]
  },
  {
   "cell_type": "code",
   "execution_count": 6,
   "id": "92e3835f",
   "metadata": {},
   "outputs": [
    {
     "data": {
      "text/plain": [
       "Symbol                      object\n",
       "Series                      object\n",
       "Date                        object\n",
       "Prev Close                  object\n",
       "Open Price                  object\n",
       "High Price                  object\n",
       "Low Price                   object\n",
       "Last Price                  object\n",
       "Close Price                 object\n",
       "Average Price               object\n",
       "Total Traded Quantity       object\n",
       "Turnover ₹                  object\n",
       "No. of Trades               object\n",
       "Deliverable Qty             object\n",
       "% Dly Qt to Traded Qty      object\n",
       "dtype: object"
      ]
     },
     "execution_count": 6,
     "metadata": {},
     "output_type": "execute_result"
    }
   ],
   "source": [
    "df.dtypes"
   ]
  },
  {
   "cell_type": "code",
   "execution_count": 7,
   "id": "f433a1be",
   "metadata": {},
   "outputs": [
    {
     "data": {
      "text/html": [
       "<div>\n",
       "<style scoped>\n",
       "    .dataframe tbody tr th:only-of-type {\n",
       "        vertical-align: middle;\n",
       "    }\n",
       "\n",
       "    .dataframe tbody tr th {\n",
       "        vertical-align: top;\n",
       "    }\n",
       "\n",
       "    .dataframe thead th {\n",
       "        text-align: right;\n",
       "    }\n",
       "</style>\n",
       "<table border=\"1\" class=\"dataframe\">\n",
       "  <thead>\n",
       "    <tr style=\"text-align: right;\">\n",
       "      <th></th>\n",
       "      <th>Date</th>\n",
       "      <th>Close Price</th>\n",
       "    </tr>\n",
       "  </thead>\n",
       "  <tbody>\n",
       "    <tr>\n",
       "      <th>0</th>\n",
       "      <td>26-Sep-2022</td>\n",
       "      <td>2,377.35</td>\n",
       "    </tr>\n",
       "    <tr>\n",
       "      <th>1</th>\n",
       "      <td>27-Sep-2022</td>\n",
       "      <td>2,396.25</td>\n",
       "    </tr>\n",
       "    <tr>\n",
       "      <th>2</th>\n",
       "      <td>28-Sep-2022</td>\n",
       "      <td>2,332.45</td>\n",
       "    </tr>\n",
       "    <tr>\n",
       "      <th>3</th>\n",
       "      <td>29-Sep-2022</td>\n",
       "      <td>2,325.30</td>\n",
       "    </tr>\n",
       "    <tr>\n",
       "      <th>4</th>\n",
       "      <td>30-Sep-2022</td>\n",
       "      <td>2,377.75</td>\n",
       "    </tr>\n",
       "  </tbody>\n",
       "</table>\n",
       "</div>"
      ],
      "text/plain": [
       "        Date   Close Price  \n",
       "0  26-Sep-2022      2,377.35\n",
       "1  27-Sep-2022      2,396.25\n",
       "2  28-Sep-2022      2,332.45\n",
       "3  29-Sep-2022      2,325.30\n",
       "4  30-Sep-2022      2,377.75"
      ]
     },
     "execution_count": 7,
     "metadata": {},
     "output_type": "execute_result"
    }
   ],
   "source": [
    "#create df_1 with 2 columns date and closing price columns \n",
    "df_1 = df[['Date  ', 'Close Price  ']]\n",
    "df_1.head()"
   ]
  },
  {
   "cell_type": "code",
   "execution_count": 8,
   "id": "556fd397",
   "metadata": {},
   "outputs": [
    {
     "name": "stderr",
     "output_type": "stream",
     "text": [
      "C:\\Users\\lenovo\\AppData\\Local\\Temp\\ipykernel_9340\\4086993975.py:2: SettingWithCopyWarning: \n",
      "A value is trying to be set on a copy of a slice from a DataFrame\n",
      "\n",
      "See the caveats in the documentation: https://pandas.pydata.org/pandas-docs/stable/user_guide/indexing.html#returning-a-view-versus-a-copy\n",
      "  df_1.rename(columns = {'Date  ':'Date','Close Price  ':'Close_Price'}, inplace = True)\n"
     ]
    }
   ],
   "source": [
    "#renaming the columns\n",
    "df_1.rename(columns = {'Date  ':'Date','Close Price  ':'Close_Price'}, inplace = True)"
   ]
  },
  {
   "cell_type": "code",
   "execution_count": 9,
   "id": "b7ee9493",
   "metadata": {},
   "outputs": [
    {
     "data": {
      "text/html": [
       "<div>\n",
       "<style scoped>\n",
       "    .dataframe tbody tr th:only-of-type {\n",
       "        vertical-align: middle;\n",
       "    }\n",
       "\n",
       "    .dataframe tbody tr th {\n",
       "        vertical-align: top;\n",
       "    }\n",
       "\n",
       "    .dataframe thead th {\n",
       "        text-align: right;\n",
       "    }\n",
       "</style>\n",
       "<table border=\"1\" class=\"dataframe\">\n",
       "  <thead>\n",
       "    <tr style=\"text-align: right;\">\n",
       "      <th></th>\n",
       "      <th>Date</th>\n",
       "      <th>Close_Price</th>\n",
       "    </tr>\n",
       "  </thead>\n",
       "  <tbody>\n",
       "    <tr>\n",
       "      <th>0</th>\n",
       "      <td>26-Sep-2022</td>\n",
       "      <td>2,377.35</td>\n",
       "    </tr>\n",
       "    <tr>\n",
       "      <th>1</th>\n",
       "      <td>27-Sep-2022</td>\n",
       "      <td>2,396.25</td>\n",
       "    </tr>\n",
       "    <tr>\n",
       "      <th>2</th>\n",
       "      <td>28-Sep-2022</td>\n",
       "      <td>2,332.45</td>\n",
       "    </tr>\n",
       "    <tr>\n",
       "      <th>3</th>\n",
       "      <td>29-Sep-2022</td>\n",
       "      <td>2,325.30</td>\n",
       "    </tr>\n",
       "    <tr>\n",
       "      <th>4</th>\n",
       "      <td>30-Sep-2022</td>\n",
       "      <td>2,377.75</td>\n",
       "    </tr>\n",
       "  </tbody>\n",
       "</table>\n",
       "</div>"
      ],
      "text/plain": [
       "          Date Close_Price\n",
       "0  26-Sep-2022    2,377.35\n",
       "1  27-Sep-2022    2,396.25\n",
       "2  28-Sep-2022    2,332.45\n",
       "3  29-Sep-2022    2,325.30\n",
       "4  30-Sep-2022    2,377.75"
      ]
     },
     "execution_count": 9,
     "metadata": {},
     "output_type": "execute_result"
    }
   ],
   "source": [
    "df_1.head()"
   ]
  },
  {
   "cell_type": "code",
   "execution_count": 10,
   "id": "adcba10a",
   "metadata": {},
   "outputs": [
    {
     "name": "stderr",
     "output_type": "stream",
     "text": [
      "C:\\Users\\lenovo\\AppData\\Local\\Temp\\ipykernel_9340\\95893366.py:3: SettingWithCopyWarning: \n",
      "A value is trying to be set on a copy of a slice from a DataFrame.\n",
      "Try using .loc[row_indexer,col_indexer] = value instead\n",
      "\n",
      "See the caveats in the documentation: https://pandas.pydata.org/pandas-docs/stable/user_guide/indexing.html#returning-a-view-versus-a-copy\n",
      "  df_1['Date'] = pd.to_datetime(df_1['Date'])\n"
     ]
    }
   ],
   "source": [
    "# Convert Month into Datetime\n",
    "\n",
    "df_1['Date'] = pd.to_datetime(df_1['Date'])\n",
    "\n",
    "#df_1['Date  '] = pd.to_datetime(df_1['Date  '].str.strip())"
   ]
  },
  {
   "cell_type": "code",
   "execution_count": 11,
   "id": "bb518d1f",
   "metadata": {},
   "outputs": [
    {
     "name": "stderr",
     "output_type": "stream",
     "text": [
      "C:\\Users\\lenovo\\AppData\\Local\\Temp\\ipykernel_9340\\3056376070.py:2: SettingWithCopyWarning: \n",
      "A value is trying to be set on a copy of a slice from a DataFrame.\n",
      "Try using .loc[row_indexer,col_indexer] = value instead\n",
      "\n",
      "See the caveats in the documentation: https://pandas.pydata.org/pandas-docs/stable/user_guide/indexing.html#returning-a-view-versus-a-copy\n",
      "  df_1['Close_Price'] = pd.to_numeric(df_1['Close_Price'].str.replace(',', ''), errors='coerce')\n"
     ]
    }
   ],
   "source": [
    "# Remove commas and then convert 'Column_Name' to a numeric data type\n",
    "df_1['Close_Price'] = pd.to_numeric(df_1['Close_Price'].str.replace(',', ''), errors='coerce')"
   ]
  },
  {
   "cell_type": "code",
   "execution_count": 12,
   "id": "da21199d",
   "metadata": {},
   "outputs": [
    {
     "data": {
      "text/plain": [
       "Date           datetime64[ns]\n",
       "Close_Price           float64\n",
       "dtype: object"
      ]
     },
     "execution_count": 12,
     "metadata": {},
     "output_type": "execute_result"
    }
   ],
   "source": [
    "df_1.dtypes"
   ]
  },
  {
   "cell_type": "code",
   "execution_count": 13,
   "id": "ae7bd8b4",
   "metadata": {},
   "outputs": [],
   "source": [
    "df_1.set_index('Date',inplace=True)"
   ]
  },
  {
   "cell_type": "code",
   "execution_count": 14,
   "id": "02fd123b",
   "metadata": {},
   "outputs": [
    {
     "data": {
      "text/html": [
       "<div>\n",
       "<style scoped>\n",
       "    .dataframe tbody tr th:only-of-type {\n",
       "        vertical-align: middle;\n",
       "    }\n",
       "\n",
       "    .dataframe tbody tr th {\n",
       "        vertical-align: top;\n",
       "    }\n",
       "\n",
       "    .dataframe thead th {\n",
       "        text-align: right;\n",
       "    }\n",
       "</style>\n",
       "<table border=\"1\" class=\"dataframe\">\n",
       "  <thead>\n",
       "    <tr style=\"text-align: right;\">\n",
       "      <th></th>\n",
       "      <th>Close_Price</th>\n",
       "    </tr>\n",
       "    <tr>\n",
       "      <th>Date</th>\n",
       "      <th></th>\n",
       "    </tr>\n",
       "  </thead>\n",
       "  <tbody>\n",
       "    <tr>\n",
       "      <th>2022-09-26</th>\n",
       "      <td>2377.35</td>\n",
       "    </tr>\n",
       "    <tr>\n",
       "      <th>2022-09-27</th>\n",
       "      <td>2396.25</td>\n",
       "    </tr>\n",
       "    <tr>\n",
       "      <th>2022-09-28</th>\n",
       "      <td>2332.45</td>\n",
       "    </tr>\n",
       "    <tr>\n",
       "      <th>2022-09-29</th>\n",
       "      <td>2325.30</td>\n",
       "    </tr>\n",
       "    <tr>\n",
       "      <th>2022-09-30</th>\n",
       "      <td>2377.75</td>\n",
       "    </tr>\n",
       "  </tbody>\n",
       "</table>\n",
       "</div>"
      ],
      "text/plain": [
       "            Close_Price\n",
       "Date                   \n",
       "2022-09-26      2377.35\n",
       "2022-09-27      2396.25\n",
       "2022-09-28      2332.45\n",
       "2022-09-29      2325.30\n",
       "2022-09-30      2377.75"
      ]
     },
     "execution_count": 14,
     "metadata": {},
     "output_type": "execute_result"
    }
   ],
   "source": [
    "df_1.head()"
   ]
  },
  {
   "cell_type": "code",
   "execution_count": 15,
   "id": "78ad15ea",
   "metadata": {},
   "outputs": [
    {
     "data": {
      "text/plain": [
       "<AxesSubplot:xlabel='Date'>"
      ]
     },
     "execution_count": 15,
     "metadata": {},
     "output_type": "execute_result"
    },
    {
     "data": {
      "image/png": "[encoded data removed]",
      "text/plain": [
       "<Figure size 640x480 with 1 Axes>"
      ]
     },
     "metadata": {},
     "output_type": "display_data"
    }
   ],
   "source": [
    "df_1.plot()"
   ]
  },
  {
   "cell_type": "code",
   "execution_count": 16,
   "id": "0bdfe60f",
   "metadata": {},
   "outputs": [],
   "source": [
    "### Testing For Stationarity\n",
    "from statsmodels.tsa.stattools import adfuller"
   ]
  },
  {
   "cell_type": "code",
   "execution_count": 17,
   "id": "8c02f0b2",
   "metadata": {},
   "outputs": [],
   "source": [
    "test_result=adfuller(df_1['Close_Price'])"
   ]
  },
  {
   "cell_type": "code",
   "execution_count": 18,
   "id": "f3d842b2",
   "metadata": {},
   "outputs": [
    {
     "name": "stdout",
     "output_type": "stream",
     "text": [
      "ADF Test Statistic : -2.4081624898119114\n",
      "p-value : 0.13944584734714038\n",
      "#Lags Used : 1\n",
      "Number of Observations Used : 248\n",
      "Weak evidence against null hypothesis, time series has a unit root indicating it is non-stationary\n"
     ]
    }
   ],
   "source": [
    "# Define your function with a valid parameter name (e.g., 'close_price')\n",
    "\n",
    "#Ho: It is non stationary\n",
    "#H1: It is stationary\n",
    "\n",
    "def adfuller_test(close_price):\n",
    "    result = adfuller(close_price)\n",
    "    labels = ['ADF Test Statistic', 'p-value', '#Lags Used', 'Number of Observations Used']\n",
    "    for value, label in zip(result, labels):\n",
    "        print(label + ' : ' + str(value))\n",
    "    if result[1] <= 0.05:\n",
    "        print(\"Strong evidence against the null hypothesis (Ho), reject the null hypothesis. Data has no unit root and is stationary\")\n",
    "    else:\n",
    "        print(\"Weak evidence against null hypothesis, time series has a unit root indicating it is non-stationary\")\n",
    "\n",
    "# Call the function with your 'Close Price' column as the argument\n",
    "adfuller_test(df_1['Close_Price'])"
   ]
  },
  {
   "cell_type": "markdown",
   "id": "a714ea08",
   "metadata": {},
   "source": [
    "Figure out Order for ARIMA model"
   ]
  },
  {
   "cell_type": "code",
   "execution_count": 19,
   "id": "cb625bfc",
   "metadata": {},
   "outputs": [],
   "source": [
    "from pmdarima import auto_arima"
   ]
  },
  {
   "cell_type": "code",
   "execution_count": 20,
   "id": "b40f8d33",
   "metadata": {},
   "outputs": [
    {
     "name": "stdout",
     "output_type": "stream",
     "text": [
      "Performing stepwise search to minimize aic\n",
      " ARIMA(2,0,2)(0,0,0)[0] intercept   : AIC=2449.330, Time=0.14 sec\n",
      " ARIMA(0,0,0)(0,0,0)[0] intercept   : AIC=3105.239, Time=0.01 sec\n",
      " ARIMA(1,0,0)(0,0,0)[0] intercept   : AIC=2449.788, Time=0.03 sec\n",
      " ARIMA(0,0,1)(0,0,0)[0] intercept   : AIC=2844.521, Time=0.09 sec\n",
      " ARIMA(0,0,0)(0,0,0)[0]             : AIC=4619.032, Time=0.01 sec\n",
      " ARIMA(1,0,2)(0,0,0)[0] intercept   : AIC=2447.294, Time=0.10 sec\n",
      " ARIMA(0,0,2)(0,0,0)[0] intercept   : AIC=2687.451, Time=0.37 sec\n",
      " ARIMA(1,0,1)(0,0,0)[0] intercept   : AIC=2446.074, Time=0.17 sec\n",
      " ARIMA(2,0,1)(0,0,0)[0] intercept   : AIC=2447.625, Time=0.34 sec\n",
      " ARIMA(2,0,0)(0,0,0)[0] intercept   : AIC=2445.630, Time=0.14 sec\n",
      " ARIMA(3,0,0)(0,0,0)[0] intercept   : AIC=2447.615, Time=0.37 sec\n",
      " ARIMA(3,0,1)(0,0,0)[0] intercept   : AIC=2449.601, Time=0.50 sec\n",
      " ARIMA(2,0,0)(0,0,0)[0]             : AIC=inf, Time=0.04 sec\n",
      "\n",
      "Best model:  ARIMA(2,0,0)(0,0,0)[0] intercept\n",
      "Total fit time: 2.322 seconds\n"
     ]
    },
    {
     "data": {
      "text/html": [
       "<table class=\"simpletable\">\n",
       "<caption>SARIMAX Results</caption>\n",
       "<tr>\n",
       "  <th>Dep. Variable:</th>           <td>y</td>        <th>  No. Observations:  </th>    <td>250</td>   \n",
       "</tr>\n",
       "<tr>\n",
       "  <th>Model:</th>           <td>SARIMAX(2, 0, 0)</td> <th>  Log Likelihood     </th> <td>-1218.815</td>\n",
       "</tr>\n",
       "<tr>\n",
       "  <th>Date:</th>            <td>Thu, 05 Oct 2023</td> <th>  AIC                </th> <td>2445.630</td> \n",
       "</tr>\n",
       "<tr>\n",
       "  <th>Time:</th>                <td>22:08:22</td>     <th>  BIC                </th> <td>2459.716</td> \n",
       "</tr>\n",
       "<tr>\n",
       "  <th>Sample:</th>                  <td>0</td>        <th>  HQIC               </th> <td>2451.299</td> \n",
       "</tr>\n",
       "<tr>\n",
       "  <th></th>                      <td> - 250</td>      <th>                     </th>     <td> </td>    \n",
       "</tr>\n",
       "<tr>\n",
       "  <th>Covariance Type:</th>        <td>opg</td>       <th>                     </th>     <td> </td>    \n",
       "</tr>\n",
       "</table>\n",
       "<table class=\"simpletable\">\n",
       "<tr>\n",
       "      <td></td>         <th>coef</th>     <th>std err</th>      <th>z</th>      <th>P>|z|</th>  <th>[0.025</th>    <th>0.975]</th>  \n",
       "</tr>\n",
       "<tr>\n",
       "  <th>intercept</th> <td>  101.4492</td> <td>   36.692</td> <td>    2.765</td> <td> 0.006</td> <td>   29.534</td> <td>  173.364</td>\n",
       "</tr>\n",
       "<tr>\n",
       "  <th>ar.L1</th>     <td>    1.1140</td> <td>    0.068</td> <td>   16.271</td> <td> 0.000</td> <td>    0.980</td> <td>    1.248</td>\n",
       "</tr>\n",
       "<tr>\n",
       "  <th>ar.L2</th>     <td>   -0.1553</td> <td>    0.070</td> <td>   -2.210</td> <td> 0.027</td> <td>   -0.293</td> <td>   -0.018</td>\n",
       "</tr>\n",
       "<tr>\n",
       "  <th>sigma2</th>    <td>  998.8947</td> <td>   55.233</td> <td>   18.085</td> <td> 0.000</td> <td>  890.639</td> <td> 1107.150</td>\n",
       "</tr>\n",
       "</table>\n",
       "<table class=\"simpletable\">\n",
       "<tr>\n",
       "  <th>Ljung-Box (L1) (Q):</th>     <td>0.00</td> <th>  Jarque-Bera (JB):  </th> <td>613.13</td>\n",
       "</tr>\n",
       "<tr>\n",
       "  <th>Prob(Q):</th>                <td>0.99</td> <th>  Prob(JB):          </th>  <td>0.00</td> \n",
       "</tr>\n",
       "<tr>\n",
       "  <th>Heteroskedasticity (H):</th> <td>1.46</td> <th>  Skew:              </th>  <td>-0.77</td>\n",
       "</tr>\n",
       "<tr>\n",
       "  <th>Prob(H) (two-sided):</th>    <td>0.09</td> <th>  Kurtosis:          </th>  <td>10.52</td>\n",
       "</tr>\n",
       "</table><br/><br/>Warnings:<br/>[1] Covariance matrix calculated using the outer product of gradients (complex-step)."
      ],
      "text/plain": [
       "<class 'statsmodels.iolib.summary.Summary'>\n",
       "\"\"\"\n",
       "                               SARIMAX Results                                \n",
       "==============================================================================\n",
       "Dep. Variable:                      y   No. Observations:                  250\n",
       "Model:               SARIMAX(2, 0, 0)   Log Likelihood               -1218.815\n",
       "Date:                Thu, 05 Oct 2023   AIC                           2445.630\n",
       "Time:                        22:08:22   BIC                           2459.716\n",
       "Sample:                             0   HQIC                          2451.299\n",
       "                                - 250                                         \n",
       "Covariance Type:                  opg                                         \n",
       "==============================================================================\n",
       "                 coef    std err          z      P>|z|      [0.025      0.975]\n",
       "------------------------------------------------------------------------------\n",
       "intercept    101.4492     36.692      2.765      0.006      29.534     173.364\n",
       "ar.L1          1.1140      0.068     16.271      0.000       0.980       1.248\n",
       "ar.L2         -0.1553      0.070     -2.210      0.027      -0.293      -0.018\n",
       "sigma2       998.8947     55.233     18.085      0.000     890.639    1107.150\n",
       "===================================================================================\n",
       "Ljung-Box (L1) (Q):                   0.00   Jarque-Bera (JB):               613.13\n",
       "Prob(Q):                              0.99   Prob(JB):                         0.00\n",
       "Heteroskedasticity (H):               1.46   Skew:                            -0.77\n",
       "Prob(H) (two-sided):                  0.09   Kurtosis:                        10.52\n",
       "===================================================================================\n",
       "\n",
       "Warnings:\n",
       "[1] Covariance matrix calculated using the outer product of gradients (complex-step).\n",
       "\"\"\""
      ]
     },
     "execution_count": 20,
     "metadata": {},
     "output_type": "execute_result"
    }
   ],
   "source": [
    "#try diff order and assign a score ,Goal to minimise AIC (p,d,q)\n",
    "stepwise_fit = auto_arima(df_1['Close_Price'],trace =True )\n",
    "stepwise_fit.summary()"
   ]
  },
  {
   "cell_type": "code",
   "execution_count": 21,
   "id": "e0c46c07",
   "metadata": {},
   "outputs": [],
   "source": [
    "from statsmodels.tsa.arima_model import ARIMA"
   ]
  },
  {
   "cell_type": "markdown",
   "id": "7886336a",
   "metadata": {},
   "source": [
    "Split Data into Training and Testing"
   ]
  },
  {
   "cell_type": "code",
   "execution_count": 22,
   "id": "03fae16d",
   "metadata": {},
   "outputs": [
    {
     "name": "stdout",
     "output_type": "stream",
     "text": [
      "(250, 15)\n",
      "(220, 1) (30, 1)\n"
     ]
    }
   ],
   "source": [
    "print(df.shape)\n",
    "train = df_1.iloc[:-30]\n",
    "test = df_1.iloc[-30:]\n",
    "print(train.shape , test.shape)"
   ]
  },
  {
   "cell_type": "markdown",
   "id": "f7c8f940",
   "metadata": {},
   "source": [
    "Train the Model"
   ]
  },
  {
   "cell_type": "code",
   "execution_count": null,
   "id": "40a64dc9",
   "metadata": {},
   "outputs": [],
   "source": []
  },
  {
   "cell_type": "code",
   "execution_count": 23,
   "id": "57f78fd2",
   "metadata": {},
   "outputs": [
    {
     "name": "stdout",
     "output_type": "stream",
     "text": [
      "                               SARIMAX Results                                \n",
      "==============================================================================\n",
      "Dep. Variable:            Close_Price   No. Observations:                  220\n",
      "Model:                 ARIMA(2, 0, 0)   Log Likelihood               -1080.640\n",
      "Date:                Thu, 05 Oct 2023   AIC                           2169.280\n",
      "Time:                        22:08:22   BIC                           2182.855\n",
      "Sample:                             0   HQIC                          2174.762\n",
      "                                - 220                                         \n",
      "Covariance Type:                  opg                                         \n",
      "==============================================================================\n",
      "                 coef    std err          z      P>|z|      [0.025      0.975]\n",
      "------------------------------------------------------------------------------\n",
      "const       2476.4899     51.847     47.765      0.000    2374.872    2578.108\n",
      "ar.L1          1.1126      0.074     15.047      0.000       0.968       1.258\n",
      "ar.L2         -0.1556      0.076     -2.054      0.040      -0.304      -0.007\n",
      "sigma2      1068.4562     63.871     16.728      0.000     943.272    1193.641\n",
      "===================================================================================\n",
      "Ljung-Box (L1) (Q):                   0.00   Jarque-Bera (JB):               504.54\n",
      "Prob(Q):                              0.98   Prob(JB):                         0.00\n",
      "Heteroskedasticity (H):               1.59   Skew:                            -0.80\n",
      "Prob(H) (two-sided):                  0.05   Kurtosis:                        10.25\n",
      "===================================================================================\n",
      "\n",
      "Warnings:\n",
      "[1] Covariance matrix calculated using the outer product of gradients (complex-step).\n"
     ]
    },
    {
     "name": "stderr",
     "output_type": "stream",
     "text": [
      "C:\\Users\\lenovo\\anaconda3\\lib\\site-packages\\statsmodels\\tsa\\base\\tsa_model.py:471: ValueWarning: A date index has been provided, but it has no associated frequency information and so will be ignored when e.g. forecasting.\n",
      "  self._init_dates(dates, freq)\n",
      "C:\\Users\\lenovo\\anaconda3\\lib\\site-packages\\statsmodels\\tsa\\base\\tsa_model.py:471: ValueWarning: A date index has been provided, but it has no associated frequency information and so will be ignored when e.g. forecasting.\n",
      "  self._init_dates(dates, freq)\n",
      "C:\\Users\\lenovo\\anaconda3\\lib\\site-packages\\statsmodels\\tsa\\base\\tsa_model.py:471: ValueWarning: A date index has been provided, but it has no associated frequency information and so will be ignored when e.g. forecasting.\n",
      "  self._init_dates(dates, freq)\n"
     ]
    }
   ],
   "source": [
    "from statsmodels.tsa.arima.model import ARIMA\n",
    "\n",
    "# Define and fit the ARIMA model\n",
    "model = ARIMA(train['Close_Price'], order=(2,0,0))\n",
    "model = model.fit()\n",
    "\n",
    "# Print the model summary\n",
    "print(model.summary())"
   ]
  },
  {
   "cell_type": "markdown",
   "id": "d61efa29",
   "metadata": {},
   "source": [
    "Make Prredictions on Test set"
   ]
  },
  {
   "cell_type": "code",
   "execution_count": 24,
   "id": "ed7e9fa5",
   "metadata": {},
   "outputs": [
    {
     "name": "stdout",
     "output_type": "stream",
     "text": [
      "Date\n",
      "2023-08-10    2525.682033\n",
      "2023-08-11    2523.642829\n",
      "2023-08-14    2521.298908\n",
      "2023-08-16    2519.008307\n",
      "2023-08-17    2516.824450\n",
      "2023-08-18    2514.751064\n",
      "2023-08-21    2512.783982\n",
      "2023-08-22    2510.917986\n",
      "2023-08-23    2509.147919\n",
      "2023-08-24    2507.468856\n",
      "2023-08-25    2505.876119\n",
      "2023-08-28    2504.365270\n",
      "2023-08-29    2502.932100\n",
      "2023-08-30    2501.572613\n",
      "2023-08-31    2500.283023\n",
      "2023-09-01    2499.059735\n",
      "2023-09-04    2497.899340\n",
      "2023-09-05    2496.798606\n",
      "2023-09-06    2495.754464\n",
      "2023-09-07    2494.764005\n",
      "2023-09-08    2493.824469\n",
      "2023-09-11    2492.933238\n",
      "2023-09-12    2492.087828\n",
      "2023-09-13    2491.285883\n",
      "2023-09-14    2490.525170\n",
      "2023-09-15    2489.803567\n",
      "2023-09-18    2489.119064\n",
      "2023-09-20    2488.469754\n",
      "2023-09-21    2487.853828\n",
      "2023-09-22    2487.269568\n",
      "Name: predicted_mean, dtype: float64\n"
     ]
    },
    {
     "name": "stderr",
     "output_type": "stream",
     "text": [
      "C:\\Users\\lenovo\\anaconda3\\lib\\site-packages\\statsmodels\\tsa\\base\\tsa_model.py:834: ValueWarning: No supported index is available. Prediction results will be given with an integer index beginning at `start`.\n",
      "  return get_prediction_index(\n"
     ]
    }
   ],
   "source": [
    "start = len(train)\n",
    "end = len(train)+len(test)-1\n",
    "predection = model.predict(start = start , end = end , typ ='levels')\n",
    "#print(predection)\n",
    "\n",
    "#To take dates as index\n",
    "predection.index = df_1.index[start:end+1]\n",
    "print(predection)"
   ]
  },
  {
   "cell_type": "code",
   "execution_count": null,
   "id": "05504845",
   "metadata": {},
   "outputs": [],
   "source": []
  },
  {
   "cell_type": "code",
   "execution_count": 25,
   "id": "6ce197da",
   "metadata": {},
   "outputs": [
    {
     "data": {
      "text/plain": [
       "<AxesSubplot:xlabel='Date'>"
      ]
     },
     "execution_count": 25,
     "metadata": {},
     "output_type": "execute_result"
    },
    {
     "data": {
      "image/png": "[encoded data removed]",
      "text/plain": [
       "<Figure size 640x480 with 1 Axes>"
      ]
     },
     "metadata": {},
     "output_type": "display_data"
    }
   ],
   "source": [
    "#PLOTTING (Root mena sq error to check the how good the fit is)\n",
    "predection.plot(legend = True)\n",
    "test['Close_Price'].plot(legend = True)"
   ]
  },
  {
   "cell_type": "code",
   "execution_count": 26,
   "id": "c10bf937",
   "metadata": {},
   "outputs": [
    {
     "data": {
      "text/plain": [
       "2463.318333333333"
      ]
     },
     "execution_count": 26,
     "metadata": {},
     "output_type": "execute_result"
    }
   ],
   "source": [
    "test['Close_Price'].mean()"
   ]
  },
  {
   "cell_type": "code",
   "execution_count": 27,
   "id": "84e6bb34",
   "metadata": {},
   "outputs": [
    {
     "name": "stdout",
     "output_type": "stream",
     "text": [
      "63.94728882547396\n"
     ]
    }
   ],
   "source": [
    "from sklearn.metrics import mean_squared_error\n",
    "from math import sqrt\n",
    "rmse = sqrt(mean_squared_error (predection , test['Close_Price']))\n",
    "print(rmse)"
   ]
  },
  {
   "cell_type": "code",
   "execution_count": null,
   "id": "8a8fb41f",
   "metadata": {},
   "outputs": [],
   "source": []
  },
  {
   "cell_type": "code",
   "execution_count": 28,
   "id": "988bcfda",
   "metadata": {},
   "outputs": [],
   "source": [
    "# FUTURE PREDICTIONS"
   ]
  },
  {
   "cell_type": "code",
   "execution_count": 34,
   "id": "41634a45",
   "metadata": {},
   "outputs": [
    {
     "name": "stderr",
     "output_type": "stream",
     "text": [
      "C:\\Users\\lenovo\\anaconda3\\lib\\site-packages\\statsmodels\\tsa\\base\\tsa_model.py:471: ValueWarning: A date index has been provided, but it has no associated frequency information and so will be ignored when e.g. forecasting.\n",
      "  self._init_dates(dates, freq)\n",
      "C:\\Users\\lenovo\\anaconda3\\lib\\site-packages\\statsmodels\\tsa\\base\\tsa_model.py:471: ValueWarning: A date index has been provided, but it has no associated frequency information and so will be ignored when e.g. forecasting.\n",
      "  self._init_dates(dates, freq)\n",
      "C:\\Users\\lenovo\\anaconda3\\lib\\site-packages\\statsmodels\\tsa\\base\\tsa_model.py:471: ValueWarning: A date index has been provided, but it has no associated frequency information and so will be ignored when e.g. forecasting.\n",
      "  self._init_dates(dates, freq)\n"
     ]
    },
    {
     "data": {
      "text/html": [
       "<div>\n",
       "<style scoped>\n",
       "    .dataframe tbody tr th:only-of-type {\n",
       "        vertical-align: middle;\n",
       "    }\n",
       "\n",
       "    .dataframe tbody tr th {\n",
       "        vertical-align: top;\n",
       "    }\n",
       "\n",
       "    .dataframe thead th {\n",
       "        text-align: right;\n",
       "    }\n",
       "</style>\n",
       "<table border=\"1\" class=\"dataframe\">\n",
       "  <thead>\n",
       "    <tr style=\"text-align: right;\">\n",
       "      <th></th>\n",
       "      <th>Close_Price</th>\n",
       "    </tr>\n",
       "    <tr>\n",
       "      <th>Date</th>\n",
       "      <th></th>\n",
       "    </tr>\n",
       "  </thead>\n",
       "  <tbody>\n",
       "    <tr>\n",
       "      <th>2023-09-15</th>\n",
       "      <td>2457.85</td>\n",
       "    </tr>\n",
       "    <tr>\n",
       "      <th>2023-09-18</th>\n",
       "      <td>2436.45</td>\n",
       "    </tr>\n",
       "    <tr>\n",
       "      <th>2023-09-20</th>\n",
       "      <td>2382.15</td>\n",
       "    </tr>\n",
       "    <tr>\n",
       "      <th>2023-09-21</th>\n",
       "      <td>2364.80</td>\n",
       "    </tr>\n",
       "    <tr>\n",
       "      <th>2023-09-22</th>\n",
       "      <td>2354.95</td>\n",
       "    </tr>\n",
       "  </tbody>\n",
       "</table>\n",
       "</div>"
      ],
      "text/plain": [
       "            Close_Price\n",
       "Date                   \n",
       "2023-09-15      2457.85\n",
       "2023-09-18      2436.45\n",
       "2023-09-20      2382.15\n",
       "2023-09-21      2364.80\n",
       "2023-09-22      2354.95"
      ]
     },
     "execution_count": 34,
     "metadata": {},
     "output_type": "execute_result"
    }
   ],
   "source": [
    "model_2 =ARIMA (df_1['Close_Price'] , order=(2,0,0))\n",
    "model_2 = model_2.fit()\n",
    "df_1.tail()"
   ]
  },
  {
   "cell_type": "markdown",
   "id": "7b83fa33",
   "metadata": {},
   "source": [
    "Future Dates"
   ]
  },
  {
   "cell_type": "code",
   "execution_count": 35,
   "id": "d8223e3c",
   "metadata": {},
   "outputs": [
    {
     "data": {
      "text/html": [
       "<div>\n",
       "<style scoped>\n",
       "    .dataframe tbody tr th:only-of-type {\n",
       "        vertical-align: middle;\n",
       "    }\n",
       "\n",
       "    .dataframe tbody tr th {\n",
       "        vertical-align: top;\n",
       "    }\n",
       "\n",
       "    .dataframe thead th {\n",
       "        text-align: right;\n",
       "    }\n",
       "</style>\n",
       "<table border=\"1\" class=\"dataframe\">\n",
       "  <thead>\n",
       "    <tr style=\"text-align: right;\">\n",
       "      <th></th>\n",
       "      <th>Close_Price</th>\n",
       "    </tr>\n",
       "    <tr>\n",
       "      <th>Date</th>\n",
       "      <th></th>\n",
       "    </tr>\n",
       "  </thead>\n",
       "  <tbody>\n",
       "    <tr>\n",
       "      <th>2023-09-15</th>\n",
       "      <td>2457.85</td>\n",
       "    </tr>\n",
       "    <tr>\n",
       "      <th>2023-09-18</th>\n",
       "      <td>2436.45</td>\n",
       "    </tr>\n",
       "    <tr>\n",
       "      <th>2023-09-20</th>\n",
       "      <td>2382.15</td>\n",
       "    </tr>\n",
       "    <tr>\n",
       "      <th>2023-09-21</th>\n",
       "      <td>2364.80</td>\n",
       "    </tr>\n",
       "    <tr>\n",
       "      <th>2023-09-22</th>\n",
       "      <td>2354.95</td>\n",
       "    </tr>\n",
       "  </tbody>\n",
       "</table>\n",
       "</div>"
      ],
      "text/plain": [
       "            Close_Price\n",
       "Date                   \n",
       "2023-09-15      2457.85\n",
       "2023-09-18      2436.45\n",
       "2023-09-20      2382.15\n",
       "2023-09-21      2364.80\n",
       "2023-09-22      2354.95"
      ]
     },
     "execution_count": 35,
     "metadata": {},
     "output_type": "execute_result"
    }
   ],
   "source": [
    "df_1.tail()"
   ]
  },
  {
   "cell_type": "code",
   "execution_count": 36,
   "id": "53d54d08",
   "metadata": {},
   "outputs": [
    {
     "name": "stdout",
     "output_type": "stream",
     "text": [
      "DatetimeIndex(['2023-09-23', '2023-09-24', '2023-09-25', '2023-09-26',\n",
      "               '2023-09-27', '2023-09-28', '2023-09-29', '2023-09-30',\n",
      "               '2023-10-01', '2023-10-02', '2023-10-03', '2023-10-04',\n",
      "               '2023-10-05', '2023-10-06', '2023-10-07', '2023-10-08',\n",
      "               '2023-10-09', '2023-10-10', '2023-10-11', '2023-10-12',\n",
      "               '2023-10-13', '2023-10-14', '2023-10-15', '2023-10-16',\n",
      "               '2023-10-17', '2023-10-18', '2023-10-19', '2023-10-20',\n",
      "               '2023-10-21', '2023-10-22', '2023-10-23', '2023-10-24',\n",
      "               '2023-10-25', '2023-10-26', '2023-10-27', '2023-10-28',\n",
      "               '2023-10-29', '2023-10-30', '2023-10-31', '2023-11-01',\n",
      "               '2023-11-02', '2023-11-03', '2023-11-04', '2023-11-05',\n",
      "               '2023-11-06', '2023-11-07', '2023-11-08', '2023-11-09',\n",
      "               '2023-11-10', '2023-11-11', '2023-11-12', '2023-11-13',\n",
      "               '2023-11-14', '2023-11-15', '2023-11-16', '2023-11-17',\n",
      "               '2023-11-18', '2023-11-19', '2023-11-20', '2023-11-21',\n",
      "               '2023-11-22', '2023-11-23'],\n",
      "              dtype='datetime64[ns]', freq='D')\n",
      "2023-09-23    2357.869828\n",
      "2023-09-24    2362.657877\n",
      "2023-09-25    2367.534682\n",
      "2023-09-26    2372.218932\n",
      "2023-09-27    2376.674898\n",
      "                 ...     \n",
      "2023-11-19    2454.922651\n",
      "2023-11-20    2455.192001\n",
      "2023-11-21    2455.447711\n",
      "2023-11-22    2455.690470\n",
      "2023-11-23    2455.920936\n",
      "Freq: D, Name: ARIMA Predictions, Length: 62, dtype: float64\n"
     ]
    },
    {
     "name": "stderr",
     "output_type": "stream",
     "text": [
      "C:\\Users\\lenovo\\anaconda3\\lib\\site-packages\\statsmodels\\tsa\\base\\tsa_model.py:834: ValueWarning: No supported index is available. Prediction results will be given with an integer index beginning at `start`.\n",
      "  return get_prediction_index(\n"
     ]
    }
   ],
   "source": [
    "index_future_dates = pd.date_range(start='2023-09-23' , end = '2023-11-23')\n",
    "print(index_future_dates)\n",
    "\n",
    "pred = model_2.predict(start = len(df_1) , end =len(df_1)+61 , type ='levels').rename('ARIMA Predictions')\n",
    "pred.index= index_future_dates\n",
    "print(pred)"
   ]
  },
  {
   "cell_type": "code",
   "execution_count": 37,
   "id": "f3d029bb",
   "metadata": {},
   "outputs": [
    {
     "data": {
      "text/plain": [
       "<AxesSubplot:xlabel='Date'>"
      ]
     },
     "execution_count": 37,
     "metadata": {},
     "output_type": "execute_result"
    },
    {
     "data": {
      "image/png": "[encoded data removed]",
      "text/plain": [
       "<Figure size 1200x500 with 1 Axes>"
      ]
     },
     "metadata": {},
     "output_type": "display_data"
    }
   ],
   "source": [
    "pred.plot(figsize =(12,5) , legend = True)\n",
    "test['Close_Price'].plot(legend = True)"
   ]
  },
  {
   "cell_type": "code",
   "execution_count": null,
   "id": "5e3375c2",
   "metadata": {},
   "outputs": [],
   "source": []
  },
  {
   "cell_type": "code",
   "execution_count": null,
   "id": "846c8705",
   "metadata": {},
   "outputs": [],
   "source": []
  },
  {
   "cell_type": "code",
   "execution_count": null,
   "id": "79a1557a",
   "metadata": {},
   "outputs": [],
   "source": []
  },
  {
   "cell_type": "code",
   "execution_count": null,
   "id": "8560b4f0",
   "metadata": {},
   "outputs": [],
   "source": []
  },
  {
   "cell_type": "code",
   "execution_count": null,
   "id": "739985a2",
   "metadata": {},
   "outputs": [],
   "source": []
  },
  {
   "cell_type": "code",
   "execution_count": null,
   "id": "1739bd5d",
   "metadata": {},
   "outputs": [],
   "source": []
  }
 ],
 "metadata": {
  "kernelspec": {
   "display_name": "Python 3 (ipykernel)",
   "language": "python",
   "name": "python3"
  },
  "language_info": {
   "codemirror_mode": {
    "name": "ipython",
    "version": 3
   },
   "file_extension": ".py",
   "mimetype": "text/x-python",
   "name": "python",
   "nbconvert_exporter": "python",
   "pygments_lexer": "ipython3",
   "version": "3.9.13"
  }
 },
 "nbformat": 4,
 "nbformat_minor": 5
}
