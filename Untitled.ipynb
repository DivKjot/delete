{
 "cells": [
  {
   "cell_type": "code",
   "execution_count": 1,
   "id": "d82b6b8b",
   "metadata": {},
   "outputs": [],
   "source": [
    "import numpy as np\n",
    "import pandas as pd\n",
    "\n",
    "import matplotlib.pyplot as plt\n",
    "%matplotlib inline "
   ]
  },
  {
   "cell_type": "code",
   "execution_count": 2,
   "id": "81933c59",
   "metadata": {},
   "outputs": [],
   "source": [
    "df_1 = pd.read_csv('C:/Users/lenovo/Desktop/gani/ResearchProject/KTMK.csv')\n",
    "#C:/Users/lenovo/Desktop/gani/ResearchProject/KTMK.xlsx"
   ]
  },
  {
   "cell_type": "code",
   "execution_count": 3,
   "id": "279a250e",
   "metadata": {},
   "outputs": [
    {
     "data": {
      "text/html": [
       "<div>\n",
       "<style scoped>\n",
       "    .dataframe tbody tr th:only-of-type {\n",
       "        vertical-align: middle;\n",
       "    }\n",
       "\n",
       "    .dataframe tbody tr th {\n",
       "        vertical-align: top;\n",
       "    }\n",
       "\n",
       "    .dataframe thead th {\n",
       "        text-align: right;\n",
       "    }\n",
       "</style>\n",
       "<table border=\"1\" class=\"dataframe\">\n",
       "  <thead>\n",
       "    <tr style=\"text-align: right;\">\n",
       "      <th></th>\n",
       "      <th>Date</th>\n",
       "      <th>Price</th>\n",
       "      <th>Open</th>\n",
       "      <th>High</th>\n",
       "      <th>Low</th>\n",
       "      <th>Volume</th>\n",
       "      <th>Chg%</th>\n",
       "    </tr>\n",
       "  </thead>\n",
       "  <tbody>\n",
       "    <tr>\n",
       "      <th>0</th>\n",
       "      <td>Apr-13</td>\n",
       "      <td>353.55</td>\n",
       "      <td>327.5</td>\n",
       "      <td>358.25</td>\n",
       "      <td>307.5</td>\n",
       "      <td>20.64M</td>\n",
       "      <td>8.28%</td>\n",
       "    </tr>\n",
       "    <tr>\n",
       "      <th>1</th>\n",
       "      <td>May-13</td>\n",
       "      <td>391.48</td>\n",
       "      <td>352</td>\n",
       "      <td>403.67</td>\n",
       "      <td>350.6</td>\n",
       "      <td>24.53M</td>\n",
       "      <td>10.73%</td>\n",
       "    </tr>\n",
       "    <tr>\n",
       "      <th>2</th>\n",
       "      <td>Jun-13</td>\n",
       "      <td>361.1</td>\n",
       "      <td>390.63</td>\n",
       "      <td>392.85</td>\n",
       "      <td>341.5</td>\n",
       "      <td>26.51M</td>\n",
       "      <td>-7.76%</td>\n",
       "    </tr>\n",
       "    <tr>\n",
       "      <th>3</th>\n",
       "      <td>Jul-13</td>\n",
       "      <td>326.17</td>\n",
       "      <td>361.5</td>\n",
       "      <td>381.15</td>\n",
       "      <td>311.25</td>\n",
       "      <td>37.96M</td>\n",
       "      <td>-9.67%</td>\n",
       "    </tr>\n",
       "    <tr>\n",
       "      <th>4</th>\n",
       "      <td>Aug-13</td>\n",
       "      <td>329.8</td>\n",
       "      <td>327.6</td>\n",
       "      <td>337.5</td>\n",
       "      <td>294</td>\n",
       "      <td>62.41M</td>\n",
       "      <td>1.11%</td>\n",
       "    </tr>\n",
       "  </tbody>\n",
       "</table>\n",
       "</div>"
      ],
      "text/plain": [
       "     Date   Price    Open    High     Low  Volume    Chg%\n",
       "0  Apr-13  353.55   327.5  358.25   307.5  20.64M   8.28%\n",
       "1  May-13  391.48     352  403.67   350.6  24.53M  10.73%\n",
       "2  Jun-13   361.1  390.63  392.85   341.5  26.51M  -7.76%\n",
       "3  Jul-13  326.17   361.5  381.15  311.25  37.96M  -9.67%\n",
       "4  Aug-13   329.8   327.6   337.5     294  62.41M   1.11%"
      ]
     },
     "execution_count": 3,
     "metadata": {},
     "output_type": "execute_result"
    }
   ],
   "source": [
    "df_1.head()"
   ]
  },
  {
   "cell_type": "code",
   "execution_count": 4,
   "id": "827373dc",
   "metadata": {},
   "outputs": [
    {
     "name": "stdout",
     "output_type": "stream",
     "text": [
      "Index(['Date', 'Price', 'Open', 'High', 'Low', 'Volume', 'Chg%'], dtype='object')\n"
     ]
    }
   ],
   "source": [
    "print(df_1.columns)"
   ]
  },
  {
   "cell_type": "code",
   "execution_count": 5,
   "id": "a6f8eb74",
   "metadata": {},
   "outputs": [
    {
     "data": {
      "text/plain": [
       "Date      object\n",
       "Price     object\n",
       "Open      object\n",
       "High      object\n",
       "Low       object\n",
       "Volume    object\n",
       "Chg%      object\n",
       "dtype: object"
      ]
     },
     "execution_count": 5,
     "metadata": {},
     "output_type": "execute_result"
    }
   ],
   "source": [
    "df_1.dtypes"
   ]
  },
  {
   "cell_type": "code",
   "execution_count": 6,
   "id": "9786bf39",
   "metadata": {},
   "outputs": [
    {
     "data": {
      "text/html": [
       "<div>\n",
       "<style scoped>\n",
       "    .dataframe tbody tr th:only-of-type {\n",
       "        vertical-align: middle;\n",
       "    }\n",
       "\n",
       "    .dataframe tbody tr th {\n",
       "        vertical-align: top;\n",
       "    }\n",
       "\n",
       "    .dataframe thead th {\n",
       "        text-align: right;\n",
       "    }\n",
       "</style>\n",
       "<table border=\"1\" class=\"dataframe\">\n",
       "  <thead>\n",
       "    <tr style=\"text-align: right;\">\n",
       "      <th></th>\n",
       "      <th>Date</th>\n",
       "      <th>Price</th>\n",
       "    </tr>\n",
       "  </thead>\n",
       "  <tbody>\n",
       "    <tr>\n",
       "      <th>0</th>\n",
       "      <td>Apr-13</td>\n",
       "      <td>353.55</td>\n",
       "    </tr>\n",
       "    <tr>\n",
       "      <th>1</th>\n",
       "      <td>May-13</td>\n",
       "      <td>391.48</td>\n",
       "    </tr>\n",
       "    <tr>\n",
       "      <th>2</th>\n",
       "      <td>Jun-13</td>\n",
       "      <td>361.1</td>\n",
       "    </tr>\n",
       "    <tr>\n",
       "      <th>3</th>\n",
       "      <td>Jul-13</td>\n",
       "      <td>326.17</td>\n",
       "    </tr>\n",
       "    <tr>\n",
       "      <th>4</th>\n",
       "      <td>Aug-13</td>\n",
       "      <td>329.8</td>\n",
       "    </tr>\n",
       "  </tbody>\n",
       "</table>\n",
       "</div>"
      ],
      "text/plain": [
       "     Date   Price\n",
       "0  Apr-13  353.55\n",
       "1  May-13  391.48\n",
       "2  Jun-13   361.1\n",
       "3  Jul-13  326.17\n",
       "4  Aug-13   329.8"
      ]
     },
     "execution_count": 6,
     "metadata": {},
     "output_type": "execute_result"
    }
   ],
   "source": [
    "df_2 = df_1[['Date','Price']]\n",
    "df_2.head()"
   ]
  },
  {
   "cell_type": "code",
   "execution_count": 7,
   "id": "8c2f36f7",
   "metadata": {},
   "outputs": [
    {
     "name": "stderr",
     "output_type": "stream",
     "text": [
      "C:\\Users\\lenovo\\AppData\\Local\\Temp\\ipykernel_7656\\3329322002.py:4: SettingWithCopyWarning: \n",
      "A value is trying to be set on a copy of a slice from a DataFrame.\n",
      "Try using .loc[row_indexer,col_indexer] = value instead\n",
      "\n",
      "See the caveats in the documentation: https://pandas.pydata.org/pandas-docs/stable/user_guide/indexing.html#returning-a-view-versus-a-copy\n",
      "  df_2['Date'] = pd.to_datetime(df_2['Date'], format='%b-%y').dt.strftime('%Y-%m')\n",
      "C:\\Users\\lenovo\\AppData\\Local\\Temp\\ipykernel_7656\\3329322002.py:6: SettingWithCopyWarning: \n",
      "A value is trying to be set on a copy of a slice from a DataFrame.\n",
      "Try using .loc[row_indexer,col_indexer] = value instead\n",
      "\n",
      "See the caveats in the documentation: https://pandas.pydata.org/pandas-docs/stable/user_guide/indexing.html#returning-a-view-versus-a-copy\n",
      "  df_2['Date'] = pd.to_datetime(df_2['Date'])\n"
     ]
    }
   ],
   "source": [
    "from datetime import datetime\n",
    "\n",
    "# Convert the date column to the desired format\n",
    "df_2['Date'] = pd.to_datetime(df_2['Date'], format='%b-%y').dt.strftime('%Y-%m')\n",
    "\n",
    "df_2['Date'] = pd.to_datetime(df_2['Date'])"
   ]
  },
  {
   "cell_type": "code",
   "execution_count": 8,
   "id": "458eb158",
   "metadata": {},
   "outputs": [
    {
     "name": "stderr",
     "output_type": "stream",
     "text": [
      "C:\\Users\\lenovo\\AppData\\Local\\Temp\\ipykernel_7656\\277698803.py:2: SettingWithCopyWarning: \n",
      "A value is trying to be set on a copy of a slice from a DataFrame.\n",
      "Try using .loc[row_indexer,col_indexer] = value instead\n",
      "\n",
      "See the caveats in the documentation: https://pandas.pydata.org/pandas-docs/stable/user_guide/indexing.html#returning-a-view-versus-a-copy\n",
      "  df_2['Price'] = pd.to_numeric(df_2['Price'].str.replace(',', ''), errors='coerce')\n"
     ]
    }
   ],
   "source": [
    "# Remove commas and then convert 'Column_Name' to a numeric data type\n",
    "df_2['Price'] = pd.to_numeric(df_2['Price'].str.replace(',', ''), errors='coerce')\n"
   ]
  },
  {
   "cell_type": "code",
   "execution_count": null,
   "id": "e9e76c01",
   "metadata": {},
   "outputs": [],
   "source": []
  },
  {
   "cell_type": "code",
   "execution_count": 9,
   "id": "92289033",
   "metadata": {},
   "outputs": [
    {
     "data": {
      "text/plain": [
       "Date     datetime64[ns]\n",
       "Price           float64\n",
       "dtype: object"
      ]
     },
     "execution_count": 9,
     "metadata": {},
     "output_type": "execute_result"
    }
   ],
   "source": [
    "df_2.dtypes"
   ]
  },
  {
   "cell_type": "code",
   "execution_count": 10,
   "id": "620fed01",
   "metadata": {},
   "outputs": [],
   "source": [
    "df_2.set_index('Date',inplace=True)"
   ]
  },
  {
   "cell_type": "code",
   "execution_count": 48,
   "id": "ca67fb63",
   "metadata": {},
   "outputs": [
    {
     "data": {
      "text/html": [
       "<div>\n",
       "<style scoped>\n",
       "    .dataframe tbody tr th:only-of-type {\n",
       "        vertical-align: middle;\n",
       "    }\n",
       "\n",
       "    .dataframe tbody tr th {\n",
       "        vertical-align: top;\n",
       "    }\n",
       "\n",
       "    .dataframe thead th {\n",
       "        text-align: right;\n",
       "    }\n",
       "</style>\n",
       "<table border=\"1\" class=\"dataframe\">\n",
       "  <thead>\n",
       "    <tr style=\"text-align: right;\">\n",
       "      <th></th>\n",
       "      <th>Price</th>\n",
       "    </tr>\n",
       "    <tr>\n",
       "      <th>Date</th>\n",
       "      <th></th>\n",
       "    </tr>\n",
       "  </thead>\n",
       "  <tbody>\n",
       "    <tr>\n",
       "      <th>2013-04-01</th>\n",
       "      <td>353.55</td>\n",
       "    </tr>\n",
       "    <tr>\n",
       "      <th>2013-05-01</th>\n",
       "      <td>391.48</td>\n",
       "    </tr>\n",
       "    <tr>\n",
       "      <th>2013-06-01</th>\n",
       "      <td>361.10</td>\n",
       "    </tr>\n",
       "    <tr>\n",
       "      <th>2013-07-01</th>\n",
       "      <td>326.17</td>\n",
       "    </tr>\n",
       "    <tr>\n",
       "      <th>2013-08-01</th>\n",
       "      <td>329.80</td>\n",
       "    </tr>\n",
       "  </tbody>\n",
       "</table>\n",
       "</div>"
      ],
      "text/plain": [
       "             Price\n",
       "Date              \n",
       "2013-04-01  353.55\n",
       "2013-05-01  391.48\n",
       "2013-06-01  361.10\n",
       "2013-07-01  326.17\n",
       "2013-08-01  329.80"
      ]
     },
     "execution_count": 48,
     "metadata": {},
     "output_type": "execute_result"
    }
   ],
   "source": [
    "df_2.head()"
   ]
  },
  {
   "cell_type": "code",
   "execution_count": 12,
   "id": "7d627955",
   "metadata": {},
   "outputs": [
    {
     "name": "stdout",
     "output_type": "stream",
     "text": [
      "shape of data (120, 1)\n"
     ]
    }
   ],
   "source": [
    "print('shape of data',df_2.shape)"
   ]
  },
  {
   "cell_type": "code",
   "execution_count": 13,
   "id": "69c9002a",
   "metadata": {},
   "outputs": [
    {
     "data": {
      "text/plain": [
       "<AxesSubplot:xlabel='Date'>"
      ]
     },
     "execution_count": 13,
     "metadata": {},
     "output_type": "execute_result"
    },
    {
     "data": {
      "image/png": "[encoded data removed]",
      "text/plain": [
       "<Figure size 640x480 with 1 Axes>"
      ]
     },
     "metadata": {},
     "output_type": "display_data"
    }
   ],
   "source": [
    "df_2.plot()"
   ]
  },
  {
   "cell_type": "code",
   "execution_count": 14,
   "id": "e5315506",
   "metadata": {},
   "outputs": [],
   "source": [
    "### Testing For Stationarity\n",
    "\n",
    "from statsmodels.tsa.stattools import adfuller"
   ]
  },
  {
   "cell_type": "code",
   "execution_count": 15,
   "id": "c45b262c",
   "metadata": {},
   "outputs": [],
   "source": [
    "test_result=adfuller(df_2['Price'])"
   ]
  },
  {
   "cell_type": "code",
   "execution_count": 16,
   "id": "b34c6a9b",
   "metadata": {},
   "outputs": [
    {
     "name": "stdout",
     "output_type": "stream",
     "text": [
      "ADF Test Statistic : -0.9831576208689407\n",
      "p-value : 0.7593575007443908\n",
      "#Lags Used : 8\n",
      "Number of Observations Used : 111\n",
      "Weak evidence against null hypothesis, time series has a unit root indicating it is non-stationary\n"
     ]
    }
   ],
   "source": [
    "# Define your function with a valid parameter name (e.g., 'close_price')\n",
    "\n",
    "#Ho: It is non stationary\n",
    "#H1: It is stationary\n",
    "\n",
    "def adfuller_test(Price):\n",
    "    result = adfuller(Price)\n",
    "    labels = ['ADF Test Statistic', 'p-value', '#Lags Used', 'Number of Observations Used']\n",
    "    for value, label in zip(result, labels):\n",
    "        print(label + ' : ' + str(value))\n",
    "    if result[1] <= 0.05:\n",
    "        print(\"Strong evidence against the null hypothesis (Ho), reject the null hypothesis. Data has no unit root and is stationary\")\n",
    "    else:\n",
    "        print(\"Weak evidence against null hypothesis, time series has a unit root indicating it is non-stationary\")\n",
    "\n",
    "# Call the function with your 'Close Price' column as the argument\n",
    "adfuller_test(df_2['Price'])\n"
   ]
  },
  {
   "cell_type": "code",
   "execution_count": 17,
   "id": "99daa496",
   "metadata": {},
   "outputs": [],
   "source": [
    "#df_2 is a extracted data on which we want to perform the analysis\n",
    "#for experimenting purpose we use df_3\n",
    "df_3 = df_2.copy()"
   ]
  },
  {
   "cell_type": "code",
   "execution_count": 18,
   "id": "bfab93ca",
   "metadata": {},
   "outputs": [],
   "source": [
    "from pmdarima.arima.utils import ndiffs"
   ]
  },
  {
   "cell_type": "code",
   "execution_count": 19,
   "id": "eadd08ed",
   "metadata": {},
   "outputs": [
    {
     "data": {
      "text/plain": [
       "0"
      ]
     },
     "execution_count": 19,
     "metadata": {},
     "output_type": "execute_result"
    }
   ],
   "source": [
    "ndiffs(df_3.Price,test=\"adf\")"
   ]
  },
  {
   "cell_type": "code",
   "execution_count": 23,
   "id": "f1c11f6d",
   "metadata": {},
   "outputs": [],
   "source": [
    "#df_3 = pd.DataFrame(data, columns=['fi'])\n",
    "\n",
    "# First-order differencing\n",
    "df_3['first_diff'] = df_3['Price'].diff().dropna()\n",
    "#df_diff = df_1.diff().dropna()"
   ]
  },
  {
   "cell_type": "code",
   "execution_count": 36,
   "id": "97d9f8f9",
   "metadata": {},
   "outputs": [
    {
     "data": {
      "text/html": [
       "<div>\n",
       "<style scoped>\n",
       "    .dataframe tbody tr th:only-of-type {\n",
       "        vertical-align: middle;\n",
       "    }\n",
       "\n",
       "    .dataframe tbody tr th {\n",
       "        vertical-align: top;\n",
       "    }\n",
       "\n",
       "    .dataframe thead th {\n",
       "        text-align: right;\n",
       "    }\n",
       "</style>\n",
       "<table border=\"1\" class=\"dataframe\">\n",
       "  <thead>\n",
       "    <tr style=\"text-align: right;\">\n",
       "      <th></th>\n",
       "      <th>Price</th>\n",
       "      <th>first_diff</th>\n",
       "    </tr>\n",
       "    <tr>\n",
       "      <th>Date</th>\n",
       "      <th></th>\n",
       "      <th></th>\n",
       "    </tr>\n",
       "  </thead>\n",
       "  <tbody>\n",
       "    <tr>\n",
       "      <th>2013-05-01</th>\n",
       "      <td>391.48</td>\n",
       "      <td>37.93</td>\n",
       "    </tr>\n",
       "    <tr>\n",
       "      <th>2013-06-01</th>\n",
       "      <td>361.10</td>\n",
       "      <td>-30.38</td>\n",
       "    </tr>\n",
       "    <tr>\n",
       "      <th>2013-07-01</th>\n",
       "      <td>326.17</td>\n",
       "      <td>-34.93</td>\n",
       "    </tr>\n",
       "    <tr>\n",
       "      <th>2013-08-01</th>\n",
       "      <td>329.80</td>\n",
       "      <td>3.63</td>\n",
       "    </tr>\n",
       "    <tr>\n",
       "      <th>2013-09-01</th>\n",
       "      <td>339.05</td>\n",
       "      <td>9.25</td>\n",
       "    </tr>\n",
       "  </tbody>\n",
       "</table>\n",
       "</div>"
      ],
      "text/plain": [
       "             Price  first_diff\n",
       "Date                          \n",
       "2013-05-01  391.48       37.93\n",
       "2013-06-01  361.10      -30.38\n",
       "2013-07-01  326.17      -34.93\n",
       "2013-08-01  329.80        3.63\n",
       "2013-09-01  339.05        9.25"
      ]
     },
     "execution_count": 36,
     "metadata": {},
     "output_type": "execute_result"
    }
   ],
   "source": [
    "df_3.head()"
   ]
  },
  {
   "cell_type": "code",
   "execution_count": 26,
   "id": "3ff83dbe",
   "metadata": {},
   "outputs": [],
   "source": [
    "#dropping NAN values\n",
    "df_3.dropna(subset=['first_diff'], inplace=True)"
   ]
  },
  {
   "cell_type": "code",
   "execution_count": 27,
   "id": "100001ee",
   "metadata": {},
   "outputs": [
    {
     "name": "stdout",
     "output_type": "stream",
     "text": [
      "ADF Test Statistic : -6.87495839012984\n",
      "p-value : 1.4826863549446608e-09\n",
      "#Lags Used : 7\n",
      "Number of Observations Used : 111\n",
      "Strong evidence against the null hypothesis (Ho), reject the null hypothesis. Data has no unit root and is stationary\n"
     ]
    }
   ],
   "source": [
    "adfuller_test(df_3['first_diff'])"
   ]
  },
  {
   "cell_type": "code",
   "execution_count": null,
   "id": "89800fde",
   "metadata": {},
   "outputs": [],
   "source": [
    "#dropping column\n",
    "df_3.drop('first_diff', axis=1, inplace=True) "
   ]
  },
  {
   "cell_type": "code",
   "execution_count": 45,
   "id": "140da3ad",
   "metadata": {},
   "outputs": [
    {
     "data": {
      "text/plain": [
       "<AxesSubplot:xlabel='Date'>"
      ]
     },
     "execution_count": 45,
     "metadata": {},
     "output_type": "execute_result"
    },
    {
     "data": {
      "image/png": "[encoded data removed]",
      "text/plain": [
       "<Figure size 640x480 with 1 Axes>"
      ]
     },
     "metadata": {},
     "output_type": "display_data"
    }
   ],
   "source": [
    "df_3['first_diff'].plot()"
   ]
  },
  {
   "cell_type": "code",
   "execution_count": 28,
   "id": "5f98395e",
   "metadata": {},
   "outputs": [],
   "source": [
    "from pmdarima import auto_arima"
   ]
  },
  {
   "cell_type": "code",
   "execution_count": 33,
   "id": "715d327d",
   "metadata": {},
   "outputs": [
    {
     "name": "stdout",
     "output_type": "stream",
     "text": [
      "Performing stepwise search to minimize aic\n",
      " ARIMA(2,0,2)(0,0,0)[0] intercept   : AIC=1412.517, Time=0.21 sec\n",
      " ARIMA(0,0,0)(0,0,0)[0] intercept   : AIC=1413.297, Time=0.01 sec\n",
      " ARIMA(1,0,0)(0,0,0)[0] intercept   : AIC=1415.281, Time=0.04 sec\n",
      " ARIMA(0,0,1)(0,0,0)[0] intercept   : AIC=1415.276, Time=0.03 sec\n",
      " ARIMA(0,0,0)(0,0,0)[0]             : AIC=1413.244, Time=0.01 sec\n",
      " ARIMA(1,0,2)(0,0,0)[0] intercept   : AIC=inf, Time=0.11 sec\n",
      " ARIMA(2,0,1)(0,0,0)[0] intercept   : AIC=inf, Time=0.17 sec\n",
      " ARIMA(3,0,2)(0,0,0)[0] intercept   : AIC=inf, Time=0.20 sec\n",
      " ARIMA(2,0,3)(0,0,0)[0] intercept   : AIC=1410.426, Time=0.20 sec\n",
      " ARIMA(1,0,3)(0,0,0)[0] intercept   : AIC=1408.113, Time=0.13 sec\n",
      " ARIMA(0,0,3)(0,0,0)[0] intercept   : AIC=1408.030, Time=0.11 sec\n",
      " ARIMA(0,0,2)(0,0,0)[0] intercept   : AIC=1413.963, Time=0.08 sec\n",
      " ARIMA(0,0,4)(0,0,0)[0] intercept   : AIC=1409.974, Time=0.19 sec\n",
      " ARIMA(1,0,4)(0,0,0)[0] intercept   : AIC=1409.746, Time=0.22 sec\n",
      " ARIMA(0,0,3)(0,0,0)[0]             : AIC=1413.906, Time=0.10 sec\n",
      "\n",
      "Best model:  ARIMA(0,0,3)(0,0,0)[0] intercept\n",
      "Total fit time: 1.808 seconds\n"
     ]
    },
    {
     "data": {
      "text/html": [
       "<table class=\"simpletable\">\n",
       "<caption>SARIMAX Results</caption>\n",
       "<tr>\n",
       "  <th>Dep. Variable:</th>           <td>y</td>        <th>  No. Observations:  </th>    <td>119</td>  \n",
       "</tr>\n",
       "<tr>\n",
       "  <th>Model:</th>           <td>SARIMAX(0, 0, 3)</td> <th>  Log Likelihood     </th> <td>-699.015</td>\n",
       "</tr>\n",
       "<tr>\n",
       "  <th>Date:</th>            <td>Wed, 08 Nov 2023</td> <th>  AIC                </th> <td>1408.030</td>\n",
       "</tr>\n",
       "<tr>\n",
       "  <th>Time:</th>                <td>18:45:27</td>     <th>  BIC                </th> <td>1421.926</td>\n",
       "</tr>\n",
       "<tr>\n",
       "  <th>Sample:</th>             <td>05-01-2013</td>    <th>  HQIC               </th> <td>1413.673</td>\n",
       "</tr>\n",
       "<tr>\n",
       "  <th></th>                   <td>- 03-01-2023</td>   <th>                     </th>     <td> </td>   \n",
       "</tr>\n",
       "<tr>\n",
       "  <th>Covariance Type:</th>        <td>opg</td>       <th>                     </th>     <td> </td>   \n",
       "</tr>\n",
       "</table>\n",
       "<table class=\"simpletable\">\n",
       "<tr>\n",
       "      <td></td>         <th>coef</th>     <th>std err</th>      <th>z</th>      <th>P>|z|</th>  <th>[0.025</th>    <th>0.975]</th>  \n",
       "</tr>\n",
       "<tr>\n",
       "  <th>intercept</th> <td>   13.1259</td> <td>    2.311</td> <td>    5.681</td> <td> 0.000</td> <td>    8.597</td> <td>   17.654</td>\n",
       "</tr>\n",
       "<tr>\n",
       "  <th>ma.L1</th>     <td>   -0.0576</td> <td>    0.075</td> <td>   -0.769</td> <td> 0.442</td> <td>   -0.204</td> <td>    0.089</td>\n",
       "</tr>\n",
       "<tr>\n",
       "  <th>ma.L2</th>     <td>   -0.3242</td> <td>    0.065</td> <td>   -4.989</td> <td> 0.000</td> <td>   -0.452</td> <td>   -0.197</td>\n",
       "</tr>\n",
       "<tr>\n",
       "  <th>ma.L3</th>     <td>   -0.3303</td> <td>    0.067</td> <td>   -4.934</td> <td> 0.000</td> <td>   -0.462</td> <td>   -0.199</td>\n",
       "</tr>\n",
       "<tr>\n",
       "  <th>sigma2</th>    <td> 7360.4955</td> <td>  735.494</td> <td>   10.008</td> <td> 0.000</td> <td> 5918.954</td> <td> 8802.037</td>\n",
       "</tr>\n",
       "</table>\n",
       "<table class=\"simpletable\">\n",
       "<tr>\n",
       "  <th>Ljung-Box (L1) (Q):</th>     <td>0.01</td>  <th>  Jarque-Bera (JB):  </th> <td>23.98</td>\n",
       "</tr>\n",
       "<tr>\n",
       "  <th>Prob(Q):</th>                <td>0.94</td>  <th>  Prob(JB):          </th> <td>0.00</td> \n",
       "</tr>\n",
       "<tr>\n",
       "  <th>Heteroskedasticity (H):</th> <td>15.83</td> <th>  Skew:              </th> <td>-0.06</td>\n",
       "</tr>\n",
       "<tr>\n",
       "  <th>Prob(H) (two-sided):</th>    <td>0.00</td>  <th>  Kurtosis:          </th> <td>5.20</td> \n",
       "</tr>\n",
       "</table><br/><br/>Warnings:<br/>[1] Covariance matrix calculated using the outer product of gradients (complex-step)."
      ],
      "text/plain": [
       "<class 'statsmodels.iolib.summary.Summary'>\n",
       "\"\"\"\n",
       "                               SARIMAX Results                                \n",
       "==============================================================================\n",
       "Dep. Variable:                      y   No. Observations:                  119\n",
       "Model:               SARIMAX(0, 0, 3)   Log Likelihood                -699.015\n",
       "Date:                Wed, 08 Nov 2023   AIC                           1408.030\n",
       "Time:                        18:45:27   BIC                           1421.926\n",
       "Sample:                    05-01-2013   HQIC                          1413.673\n",
       "                         - 03-01-2023                                         \n",
       "Covariance Type:                  opg                                         \n",
       "==============================================================================\n",
       "                 coef    std err          z      P>|z|      [0.025      0.975]\n",
       "------------------------------------------------------------------------------\n",
       "intercept     13.1259      2.311      5.681      0.000       8.597      17.654\n",
       "ma.L1         -0.0576      0.075     -0.769      0.442      -0.204       0.089\n",
       "ma.L2         -0.3242      0.065     -4.989      0.000      -0.452      -0.197\n",
       "ma.L3         -0.3303      0.067     -4.934      0.000      -0.462      -0.199\n",
       "sigma2      7360.4955    735.494     10.008      0.000    5918.954    8802.037\n",
       "===================================================================================\n",
       "Ljung-Box (L1) (Q):                   0.01   Jarque-Bera (JB):                23.98\n",
       "Prob(Q):                              0.94   Prob(JB):                         0.00\n",
       "Heteroskedasticity (H):              15.83   Skew:                            -0.06\n",
       "Prob(H) (two-sided):                  0.00   Kurtosis:                         5.20\n",
       "===================================================================================\n",
       "\n",
       "Warnings:\n",
       "[1] Covariance matrix calculated using the outer product of gradients (complex-step).\n",
       "\"\"\""
      ]
     },
     "execution_count": 33,
     "metadata": {},
     "output_type": "execute_result"
    }
   ],
   "source": [
    "#try diff order and assign a score ,Goal to minimise AIC (p,d,q)\n",
    "stepwise_fit = auto_arima(df_3['first_diff'],trace =True )\n",
    "stepwise_fit.summary()"
   ]
  },
  {
   "cell_type": "code",
   "execution_count": 37,
   "id": "d4008bdf",
   "metadata": {},
   "outputs": [],
   "source": [
    "from statsmodels.tsa.arima_model import ARIMA"
   ]
  },
  {
   "cell_type": "code",
   "execution_count": 46,
   "id": "a2897ff9",
   "metadata": {},
   "outputs": [
    {
     "name": "stderr",
     "output_type": "stream",
     "text": [
      "C:\\Users\\lenovo\\anaconda3\\lib\\site-packages\\statsmodels\\graphics\\tsaplots.py:348: FutureWarning: The default method 'yw' can produce PACF values outside of the [-1,1] interval. After 0.13, the default will change tounadjusted Yule-Walker ('ywm'). You can use this method now by setting method='ywm'.\n",
      "  warnings.warn(\n"
     ]
    },
    {
     "data": {
      "image/png": "[encoded data removed]",
      "text/plain": [
       "<Figure size 640x480 with 1 Axes>"
      ]
     },
     "metadata": {},
     "output_type": "display_data"
    },
    {
     "data": {
      "image/png": "[encoded data removed]",
      "text/plain": [
       "<Figure size 640x480 with 1 Axes>"
      ]
     },
     "metadata": {},
     "output_type": "display_data"
    }
   ],
   "source": [
    "from statsmodels.graphics.tsaplots import plot_acf ,plot_pacf\n",
    "acf_diff = plot_acf(df_3['first_diff'])\n",
    "\n",
    "pacf_diff = plot_pacf(df_3['first_diff'])"
   ]
  },
  {
   "cell_type": "code",
   "execution_count": null,
   "id": "af03ff9c",
   "metadata": {},
   "outputs": [],
   "source": []
  },
  {
   "cell_type": "code",
   "execution_count": 53,
   "id": "0f30f325",
   "metadata": {},
   "outputs": [
    {
     "name": "stdout",
     "output_type": "stream",
     "text": [
      "                               SARIMAX Results                                \n",
      "==============================================================================\n",
      "Dep. Variable:             first_diff   No. Observations:                  119\n",
      "Model:                 ARIMA(1, 1, 1)   Log Likelihood                -701.609\n",
      "Date:                Wed, 08 Nov 2023   AIC                           1409.218\n",
      "Time:                        19:47:02   BIC                           1417.530\n",
      "Sample:                    05-01-2013   HQIC                          1412.593\n",
      "                         - 03-01-2023                                         \n",
      "Covariance Type:                  opg                                         \n",
      "==============================================================================\n",
      "                 coef    std err          z      P>|z|      [0.025      0.975]\n",
      "------------------------------------------------------------------------------\n",
      "ar.L1         -0.0034      0.084     -0.040      0.968      -0.169       0.162\n",
      "ma.L1         -1.0000    176.481     -0.006      0.995    -346.897     344.897\n",
      "sigma2      8212.3569   1.45e+06      0.006      0.995   -2.83e+06    2.85e+06\n",
      "===================================================================================\n",
      "Ljung-Box (L1) (Q):                   0.01   Jarque-Bera (JB):                63.41\n",
      "Prob(Q):                              0.93   Prob(JB):                         0.00\n",
      "Heteroskedasticity (H):              21.07   Skew:                            -0.03\n",
      "Prob(H) (two-sided):                  0.00   Kurtosis:                         6.59\n",
      "===================================================================================\n",
      "\n",
      "Warnings:\n",
      "[1] Covariance matrix calculated using the outer product of gradients (complex-step).\n"
     ]
    },
    {
     "name": "stderr",
     "output_type": "stream",
     "text": [
      "C:\\Users\\lenovo\\anaconda3\\lib\\site-packages\\statsmodels\\tsa\\base\\tsa_model.py:471: ValueWarning: No frequency information was provided, so inferred frequency MS will be used.\n",
      "  self._init_dates(dates, freq)\n",
      "C:\\Users\\lenovo\\anaconda3\\lib\\site-packages\\statsmodels\\tsa\\base\\tsa_model.py:471: ValueWarning: No frequency information was provided, so inferred frequency MS will be used.\n",
      "  self._init_dates(dates, freq)\n",
      "C:\\Users\\lenovo\\anaconda3\\lib\\site-packages\\statsmodels\\tsa\\base\\tsa_model.py:471: ValueWarning: No frequency information was provided, so inferred frequency MS will be used.\n",
      "  self._init_dates(dates, freq)\n"
     ]
    }
   ],
   "source": [
    "from statsmodels.tsa.arima.model import ARIMA\n",
    "\n",
    "# Instantiate an ARIMA model\n",
    "model = ARIMA(df_3['first_diff'], order=(1,1,1))\n",
    "\n",
    "# Fit the model\n",
    "results = model.fit()\n",
    "\n",
    "# Print the summary\n",
    "print(results.summary())\n"
   ]
  },
  {
   "cell_type": "code",
   "execution_count": 49,
   "id": "027baa78",
   "metadata": {},
   "outputs": [],
   "source": [
    "df_4=df_3.copy()"
   ]
  },
  {
   "cell_type": "code",
   "execution_count": 56,
   "id": "e28f52be",
   "metadata": {},
   "outputs": [
    {
     "data": {
      "text/html": [
       "<div>\n",
       "<style scoped>\n",
       "    .dataframe tbody tr th:only-of-type {\n",
       "        vertical-align: middle;\n",
       "    }\n",
       "\n",
       "    .dataframe tbody tr th {\n",
       "        vertical-align: top;\n",
       "    }\n",
       "\n",
       "    .dataframe thead th {\n",
       "        text-align: right;\n",
       "    }\n",
       "</style>\n",
       "<table border=\"1\" class=\"dataframe\">\n",
       "  <thead>\n",
       "    <tr style=\"text-align: right;\">\n",
       "      <th></th>\n",
       "      <th>Price</th>\n",
       "      <th>first_diff</th>\n",
       "      <th>Forecast</th>\n",
       "    </tr>\n",
       "    <tr>\n",
       "      <th>Date</th>\n",
       "      <th></th>\n",
       "      <th></th>\n",
       "      <th></th>\n",
       "    </tr>\n",
       "  </thead>\n",
       "  <tbody>\n",
       "    <tr>\n",
       "      <th>2013-05-01</th>\n",
       "      <td>391.48</td>\n",
       "      <td>37.93</td>\n",
       "      <td>NaN</td>\n",
       "    </tr>\n",
       "    <tr>\n",
       "      <th>2013-06-01</th>\n",
       "      <td>361.10</td>\n",
       "      <td>-30.38</td>\n",
       "      <td>NaN</td>\n",
       "    </tr>\n",
       "    <tr>\n",
       "      <th>2013-07-01</th>\n",
       "      <td>326.17</td>\n",
       "      <td>-34.93</td>\n",
       "      <td>NaN</td>\n",
       "    </tr>\n",
       "    <tr>\n",
       "      <th>2013-08-01</th>\n",
       "      <td>329.80</td>\n",
       "      <td>3.63</td>\n",
       "      <td>NaN</td>\n",
       "    </tr>\n",
       "    <tr>\n",
       "      <th>2013-09-01</th>\n",
       "      <td>339.05</td>\n",
       "      <td>9.25</td>\n",
       "      <td>NaN</td>\n",
       "    </tr>\n",
       "  </tbody>\n",
       "</table>\n",
       "</div>"
      ],
      "text/plain": [
       "             Price  first_diff  Forecast\n",
       "Date                                    \n",
       "2013-05-01  391.48       37.93       NaN\n",
       "2013-06-01  361.10      -30.38       NaN\n",
       "2013-07-01  326.17      -34.93       NaN\n",
       "2013-08-01  329.80        3.63       NaN\n",
       "2013-09-01  339.05        9.25       NaN"
      ]
     },
     "execution_count": 56,
     "metadata": {},
     "output_type": "execute_result"
    }
   ],
   "source": [
    "df_4.head()"
   ]
  },
  {
   "cell_type": "code",
   "execution_count": 54,
   "id": "64e0aff9",
   "metadata": {},
   "outputs": [
    {
     "name": "stdout",
     "output_type": "stream",
     "text": [
      "(119, 2)\n"
     ]
    }
   ],
   "source": [
    "print(df_4.shape)"
   ]
  },
  {
   "cell_type": "code",
   "execution_count": 61,
   "id": "ae592390",
   "metadata": {},
   "outputs": [
    {
     "data": {
      "text/plain": [
       "<AxesSubplot:xlabel='Date'>"
      ]
     },
     "execution_count": 61,
     "metadata": {},
     "output_type": "execute_result"
    },
    {
     "data": {
      "image/png": "[encoded data removed]",
      "text/plain": [
       "<Figure size 900x600 with 1 Axes>"
      ]
     },
     "metadata": {},
     "output_type": "display_data"
    }
   ],
   "source": [
    "df_4['Forecast']=results.predict(start=119,end=159,dynamic=True)\n",
    "df_4[['first_diff','Forecast']].plot(figsize=(9,6))\n"
   ]
  },
  {
   "cell_type": "code",
   "execution_count": 72,
   "id": "aae4f342",
   "metadata": {},
   "outputs": [
    {
     "name": "stdout",
     "output_type": "stream",
     "text": [
      "(119, 2)\n",
      "(109, 2) (10, 2)\n"
     ]
    }
   ],
   "source": [
    "print(df_3.shape)\n",
    "\n",
    "train=df_3.iloc[:-10] #train all values except last 30\n",
    "\n",
    "test=df_3.iloc[-10:]\n",
    "\n",
    "print(train.shape , test.shape)"
   ]
  },
  {
   "cell_type": "code",
   "execution_count": 73,
   "id": "6a557131",
   "metadata": {},
   "outputs": [
    {
     "data": {
      "text/html": [
       "<div>\n",
       "<style scoped>\n",
       "    .dataframe tbody tr th:only-of-type {\n",
       "        vertical-align: middle;\n",
       "    }\n",
       "\n",
       "    .dataframe tbody tr th {\n",
       "        vertical-align: top;\n",
       "    }\n",
       "\n",
       "    .dataframe thead th {\n",
       "        text-align: right;\n",
       "    }\n",
       "</style>\n",
       "<table border=\"1\" class=\"dataframe\">\n",
       "  <thead>\n",
       "    <tr style=\"text-align: right;\">\n",
       "      <th></th>\n",
       "      <th>Price</th>\n",
       "      <th>first_diff</th>\n",
       "    </tr>\n",
       "    <tr>\n",
       "      <th>Date</th>\n",
       "      <th></th>\n",
       "      <th></th>\n",
       "    </tr>\n",
       "  </thead>\n",
       "  <tbody>\n",
       "    <tr>\n",
       "      <th>2022-01-01</th>\n",
       "      <td>1857.25</td>\n",
       "      <td>61.15</td>\n",
       "    </tr>\n",
       "    <tr>\n",
       "      <th>2022-02-01</th>\n",
       "      <td>1842.75</td>\n",
       "      <td>-14.50</td>\n",
       "    </tr>\n",
       "    <tr>\n",
       "      <th>2022-03-01</th>\n",
       "      <td>1753.85</td>\n",
       "      <td>-88.90</td>\n",
       "    </tr>\n",
       "    <tr>\n",
       "      <th>2022-04-01</th>\n",
       "      <td>1790.75</td>\n",
       "      <td>36.90</td>\n",
       "    </tr>\n",
       "    <tr>\n",
       "      <th>2022-05-01</th>\n",
       "      <td>1846.85</td>\n",
       "      <td>56.10</td>\n",
       "    </tr>\n",
       "  </tbody>\n",
       "</table>\n",
       "</div>"
      ],
      "text/plain": [
       "              Price  first_diff\n",
       "Date                           \n",
       "2022-01-01  1857.25       61.15\n",
       "2022-02-01  1842.75      -14.50\n",
       "2022-03-01  1753.85      -88.90\n",
       "2022-04-01  1790.75       36.90\n",
       "2022-05-01  1846.85       56.10"
      ]
     },
     "execution_count": 73,
     "metadata": {},
     "output_type": "execute_result"
    }
   ],
   "source": [
    "train.tail()"
   ]
  },
  {
   "cell_type": "code",
   "execution_count": 74,
   "id": "27c172a8",
   "metadata": {},
   "outputs": [
    {
     "data": {
      "text/html": [
       "<div>\n",
       "<style scoped>\n",
       "    .dataframe tbody tr th:only-of-type {\n",
       "        vertical-align: middle;\n",
       "    }\n",
       "\n",
       "    .dataframe tbody tr th {\n",
       "        vertical-align: top;\n",
       "    }\n",
       "\n",
       "    .dataframe thead th {\n",
       "        text-align: right;\n",
       "    }\n",
       "</style>\n",
       "<table border=\"1\" class=\"dataframe\">\n",
       "  <thead>\n",
       "    <tr style=\"text-align: right;\">\n",
       "      <th></th>\n",
       "      <th>Price</th>\n",
       "      <th>first_diff</th>\n",
       "    </tr>\n",
       "    <tr>\n",
       "      <th>Date</th>\n",
       "      <th></th>\n",
       "      <th></th>\n",
       "    </tr>\n",
       "  </thead>\n",
       "  <tbody>\n",
       "    <tr>\n",
       "      <th>2022-06-01</th>\n",
       "      <td>1661.10</td>\n",
       "      <td>-185.75</td>\n",
       "    </tr>\n",
       "    <tr>\n",
       "      <th>2022-07-01</th>\n",
       "      <td>1810.35</td>\n",
       "      <td>149.25</td>\n",
       "    </tr>\n",
       "    <tr>\n",
       "      <th>2022-08-01</th>\n",
       "      <td>1915.45</td>\n",
       "      <td>105.10</td>\n",
       "    </tr>\n",
       "    <tr>\n",
       "      <th>2022-09-01</th>\n",
       "      <td>1819.20</td>\n",
       "      <td>-96.25</td>\n",
       "    </tr>\n",
       "    <tr>\n",
       "      <th>2022-10-01</th>\n",
       "      <td>1901.95</td>\n",
       "      <td>82.75</td>\n",
       "    </tr>\n",
       "  </tbody>\n",
       "</table>\n",
       "</div>"
      ],
      "text/plain": [
       "              Price  first_diff\n",
       "Date                           \n",
       "2022-06-01  1661.10     -185.75\n",
       "2022-07-01  1810.35      149.25\n",
       "2022-08-01  1915.45      105.10\n",
       "2022-09-01  1819.20      -96.25\n",
       "2022-10-01  1901.95       82.75"
      ]
     },
     "execution_count": 74,
     "metadata": {},
     "output_type": "execute_result"
    }
   ],
   "source": [
    "test.head()"
   ]
  },
  {
   "cell_type": "code",
   "execution_count": 103,
   "id": "ade6e305",
   "metadata": {},
   "outputs": [
    {
     "name": "stderr",
     "output_type": "stream",
     "text": [
      "C:\\Users\\lenovo\\anaconda3\\lib\\site-packages\\statsmodels\\tsa\\base\\tsa_model.py:471: ValueWarning: No frequency information was provided, so inferred frequency MS will be used.\n",
      "  self._init_dates(dates, freq)\n",
      "C:\\Users\\lenovo\\anaconda3\\lib\\site-packages\\statsmodels\\tsa\\base\\tsa_model.py:471: ValueWarning: No frequency information was provided, so inferred frequency MS will be used.\n",
      "  self._init_dates(dates, freq)\n",
      "C:\\Users\\lenovo\\anaconda3\\lib\\site-packages\\statsmodels\\tsa\\base\\tsa_model.py:471: ValueWarning: No frequency information was provided, so inferred frequency MS will be used.\n",
      "  self._init_dates(dates, freq)\n"
     ]
    },
    {
     "data": {
      "text/plain": [
       "<statsmodels.tsa.arima.model.ARIMAResultsWrapper at 0x20a37598d30>"
      ]
     },
     "execution_count": 103,
     "metadata": {},
     "output_type": "execute_result"
    }
   ],
   "source": [
    "model_tr=ARIMA(train['first_diff'],order=(0,0,3))\n",
    "result_tr =model_tr.fit()\n",
    "result_tr"
   ]
  },
  {
   "cell_type": "code",
   "execution_count": 109,
   "id": "6fb800d7",
   "metadata": {},
   "outputs": [
    {
     "name": "stdout",
     "output_type": "stream",
     "text": [
      "Date\n",
      "2022-06-01    71.741508\n",
      "2022-07-01     3.214925\n",
      "2022-08-01    30.532106\n",
      "2022-09-01    15.263259\n",
      "2022-10-01    15.263259\n",
      "2022-11-01    15.263259\n",
      "2022-12-01    15.263259\n",
      "2023-01-01    15.263259\n",
      "2023-02-01    15.263259\n",
      "2023-03-01    15.263259\n",
      "Name: predicted_mean, dtype: float64\n"
     ]
    }
   ],
   "source": [
    "start = len(train) #109\n",
    "end= len(train)+len(test)-1 #109+10-1\n",
    "pred = result_tr.predict(start=start,end=end)\n",
    "\n",
    "pred.index=df_4.index[start:end+1]\n",
    "print(pred)"
   ]
  },
  {
   "cell_type": "code",
   "execution_count": 110,
   "id": "a9017154",
   "metadata": {},
   "outputs": [
    {
     "data": {
      "text/plain": [
       "<AxesSubplot:xlabel='Date'>"
      ]
     },
     "execution_count": 110,
     "metadata": {},
     "output_type": "execute_result"
    },
    {
     "data": {
      "image/png": "[encoded data removed]",
      "text/plain": [
       "<Figure size 640x480 with 1 Axes>"
      ]
     },
     "metadata": {},
     "output_type": "display_data"
    }
   ],
   "source": [
    "pred.plot(legend= True)\n",
    "test['first_diff'].plot(legend=True)"
   ]
  },
  {
   "cell_type": "code",
   "execution_count": 98,
   "id": "c72cec10",
   "metadata": {},
   "outputs": [
    {
     "data": {
      "text/plain": [
       "-11.4"
      ]
     },
     "execution_count": 98,
     "metadata": {},
     "output_type": "execute_result"
    }
   ],
   "source": [
    "test['first_diff'].mean()"
   ]
  },
  {
   "cell_type": "code",
   "execution_count": 101,
   "id": "a4a98ba4",
   "metadata": {},
   "outputs": [
    {
     "ename": "TypeError",
     "evalue": "'ARIMAResultsWrapper' object is not callable",
     "output_type": "error",
     "traceback": [
      "\u001b[1;31m---------------------------------------------------------------------------\u001b[0m",
      "\u001b[1;31mTypeError\u001b[0m                                 Traceback (most recent call last)",
      "\u001b[1;32m~\\AppData\\Local\\Temp\\ipykernel_7656\\346231527.py\u001b[0m in \u001b[0;36m<module>\u001b[1;34m\u001b[0m\n\u001b[1;32m----> 1\u001b[1;33m \u001b[0mresult_tr\u001b[0m\u001b[1;33m(\u001b[0m\u001b[1;33m)\u001b[0m\u001b[1;33m\u001b[0m\u001b[1;33m\u001b[0m\u001b[0m\n\u001b[0m",
      "\u001b[1;31mTypeError\u001b[0m: 'ARIMAResultsWrapper' object is not callable"
     ]
    }
   ],
   "source": [
    "result_tr()"
   ]
  },
  {
   "cell_type": "code",
   "execution_count": null,
   "id": "c4a894f0",
   "metadata": {},
   "outputs": [],
   "source": []
  }
 ],
 "metadata": {
  "kernelspec": {
   "display_name": "Python 3 (ipykernel)",
   "language": "python",
   "name": "python3"
  },
  "language_info": {
   "codemirror_mode": {
    "name": "ipython",
    "version": 3
   },
   "file_extension": ".py",
   "mimetype": "text/x-python",
   "name": "python",
   "nbconvert_exporter": "python",
   "pygments_lexer": "ipython3",
   "version": "3.9.13"
  }
 },
 "nbformat": 4,
 "nbformat_minor": 5
}
